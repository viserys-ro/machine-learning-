{
 "cells": [
  {
   "cell_type": "code",
   "execution_count": 67,
   "id": "188cebc9-1f70-4afb-a03e-0b56ab68a9d4",
   "metadata": {},
   "outputs": [],
   "source": [
    "import numpy as np\n",
    "import pandas as pd\n",
    "import matplotlib.pyplot as plt\n",
    "import seaborn as sns\n",
    "from imblearn.over_sampling import SMOTE\n",
    "from sklearn.preprocessing import LabelEncoder,OneHotEncoder,StandardScaler,PowerTransformer\n",
    "from sklearn.feature_selection import SelectKBest,f_classif\n",
    "from sklearn.model_selection import train_test_split,RandomizedSearchCV, GridSearchCV\n",
    "from sklearn.linear_model import LogisticRegression\n",
    "from sklearn.svm import SVC\n",
    "from sklearn.ensemble import RandomForestClassifier,GradientBoostingClassifier,AdaBoostClassifier\n",
    "from sklearn.naive_bayes import GaussianNB\n",
    "from sklearn.tree import DecisionTreeClassifier\n",
    "from sklearn.metrics import accuracy_score,precision_score,f1_score,classification_report,confusion_matrix\n",
    "from sklearn.neighbors import KNeighborsClassifier\n",
    "import warnings\n",
    "warnings.filterwarnings('ignore')"
   ]
  },
  {
   "cell_type": "code",
   "execution_count": 68,
   "id": "dbb8fa1f-68cb-441c-91b7-b8bc23ce42aa",
   "metadata": {},
   "outputs": [],
   "source": [
    "data = pd.read_csv(\"Occupancy_Estimation.csv\")"
   ]
  },
  {
   "cell_type": "code",
   "execution_count": 69,
   "id": "b76734a6-d28a-4eb0-989d-22a3764d9089",
   "metadata": {},
   "outputs": [],
   "source": [
    "df = pd.DataFrame(data)"
   ]
  },
  {
   "cell_type": "code",
   "execution_count": 70,
   "id": "0473548d-117e-4289-ad9d-b4674efbb011",
   "metadata": {},
   "outputs": [
    {
     "data": {
      "text/html": [
       "<div>\n",
       "<style scoped>\n",
       "    .dataframe tbody tr th:only-of-type {\n",
       "        vertical-align: middle;\n",
       "    }\n",
       "\n",
       "    .dataframe tbody tr th {\n",
       "        vertical-align: top;\n",
       "    }\n",
       "\n",
       "    .dataframe thead th {\n",
       "        text-align: right;\n",
       "    }\n",
       "</style>\n",
       "<table border=\"1\" class=\"dataframe\">\n",
       "  <thead>\n",
       "    <tr style=\"text-align: right;\">\n",
       "      <th></th>\n",
       "      <th>Date</th>\n",
       "      <th>Time</th>\n",
       "      <th>S1_Temp</th>\n",
       "      <th>S2_Temp</th>\n",
       "      <th>S3_Temp</th>\n",
       "      <th>S4_Temp</th>\n",
       "      <th>S1_Light</th>\n",
       "      <th>S2_Light</th>\n",
       "      <th>S3_Light</th>\n",
       "      <th>S4_Light</th>\n",
       "      <th>S1_Sound</th>\n",
       "      <th>S2_Sound</th>\n",
       "      <th>S3_Sound</th>\n",
       "      <th>S4_Sound</th>\n",
       "      <th>S5_CO2</th>\n",
       "      <th>S5_CO2_Slope</th>\n",
       "      <th>S6_PIR</th>\n",
       "      <th>S7_PIR</th>\n",
       "      <th>Room_Occupancy_Count</th>\n",
       "    </tr>\n",
       "  </thead>\n",
       "  <tbody>\n",
       "    <tr>\n",
       "      <th>0</th>\n",
       "      <td>2017/12/22</td>\n",
       "      <td>10:49:41</td>\n",
       "      <td>24.94</td>\n",
       "      <td>24.75</td>\n",
       "      <td>24.56</td>\n",
       "      <td>25.38</td>\n",
       "      <td>121</td>\n",
       "      <td>34</td>\n",
       "      <td>53</td>\n",
       "      <td>40</td>\n",
       "      <td>0.08</td>\n",
       "      <td>0.19</td>\n",
       "      <td>0.06</td>\n",
       "      <td>0.06</td>\n",
       "      <td>390</td>\n",
       "      <td>0.769231</td>\n",
       "      <td>0</td>\n",
       "      <td>0</td>\n",
       "      <td>1</td>\n",
       "    </tr>\n",
       "    <tr>\n",
       "      <th>1</th>\n",
       "      <td>2017/12/22</td>\n",
       "      <td>10:50:12</td>\n",
       "      <td>24.94</td>\n",
       "      <td>24.75</td>\n",
       "      <td>24.56</td>\n",
       "      <td>25.44</td>\n",
       "      <td>121</td>\n",
       "      <td>33</td>\n",
       "      <td>53</td>\n",
       "      <td>40</td>\n",
       "      <td>0.93</td>\n",
       "      <td>0.05</td>\n",
       "      <td>0.06</td>\n",
       "      <td>0.06</td>\n",
       "      <td>390</td>\n",
       "      <td>0.646154</td>\n",
       "      <td>0</td>\n",
       "      <td>0</td>\n",
       "      <td>1</td>\n",
       "    </tr>\n",
       "    <tr>\n",
       "      <th>2</th>\n",
       "      <td>2017/12/22</td>\n",
       "      <td>10:50:42</td>\n",
       "      <td>25.00</td>\n",
       "      <td>24.75</td>\n",
       "      <td>24.50</td>\n",
       "      <td>25.44</td>\n",
       "      <td>121</td>\n",
       "      <td>34</td>\n",
       "      <td>53</td>\n",
       "      <td>40</td>\n",
       "      <td>0.43</td>\n",
       "      <td>0.11</td>\n",
       "      <td>0.08</td>\n",
       "      <td>0.06</td>\n",
       "      <td>390</td>\n",
       "      <td>0.519231</td>\n",
       "      <td>0</td>\n",
       "      <td>0</td>\n",
       "      <td>1</td>\n",
       "    </tr>\n",
       "    <tr>\n",
       "      <th>3</th>\n",
       "      <td>2017/12/22</td>\n",
       "      <td>10:51:13</td>\n",
       "      <td>25.00</td>\n",
       "      <td>24.75</td>\n",
       "      <td>24.56</td>\n",
       "      <td>25.44</td>\n",
       "      <td>121</td>\n",
       "      <td>34</td>\n",
       "      <td>53</td>\n",
       "      <td>40</td>\n",
       "      <td>0.41</td>\n",
       "      <td>0.10</td>\n",
       "      <td>0.10</td>\n",
       "      <td>0.09</td>\n",
       "      <td>390</td>\n",
       "      <td>0.388462</td>\n",
       "      <td>0</td>\n",
       "      <td>0</td>\n",
       "      <td>1</td>\n",
       "    </tr>\n",
       "    <tr>\n",
       "      <th>4</th>\n",
       "      <td>2017/12/22</td>\n",
       "      <td>10:51:44</td>\n",
       "      <td>25.00</td>\n",
       "      <td>24.75</td>\n",
       "      <td>24.56</td>\n",
       "      <td>25.44</td>\n",
       "      <td>121</td>\n",
       "      <td>34</td>\n",
       "      <td>54</td>\n",
       "      <td>40</td>\n",
       "      <td>0.18</td>\n",
       "      <td>0.06</td>\n",
       "      <td>0.06</td>\n",
       "      <td>0.06</td>\n",
       "      <td>390</td>\n",
       "      <td>0.253846</td>\n",
       "      <td>0</td>\n",
       "      <td>0</td>\n",
       "      <td>1</td>\n",
       "    </tr>\n",
       "  </tbody>\n",
       "</table>\n",
       "</div>"
      ],
      "text/plain": [
       "         Date      Time  S1_Temp  S2_Temp  S3_Temp  S4_Temp  S1_Light  \\\n",
       "0  2017/12/22  10:49:41    24.94    24.75    24.56    25.38       121   \n",
       "1  2017/12/22  10:50:12    24.94    24.75    24.56    25.44       121   \n",
       "2  2017/12/22  10:50:42    25.00    24.75    24.50    25.44       121   \n",
       "3  2017/12/22  10:51:13    25.00    24.75    24.56    25.44       121   \n",
       "4  2017/12/22  10:51:44    25.00    24.75    24.56    25.44       121   \n",
       "\n",
       "   S2_Light  S3_Light  S4_Light  S1_Sound  S2_Sound  S3_Sound  S4_Sound  \\\n",
       "0        34        53        40      0.08      0.19      0.06      0.06   \n",
       "1        33        53        40      0.93      0.05      0.06      0.06   \n",
       "2        34        53        40      0.43      0.11      0.08      0.06   \n",
       "3        34        53        40      0.41      0.10      0.10      0.09   \n",
       "4        34        54        40      0.18      0.06      0.06      0.06   \n",
       "\n",
       "   S5_CO2  S5_CO2_Slope  S6_PIR  S7_PIR  Room_Occupancy_Count  \n",
       "0     390      0.769231       0       0                     1  \n",
       "1     390      0.646154       0       0                     1  \n",
       "2     390      0.519231       0       0                     1  \n",
       "3     390      0.388462       0       0                     1  \n",
       "4     390      0.253846       0       0                     1  "
      ]
     },
     "execution_count": 70,
     "metadata": {},
     "output_type": "execute_result"
    }
   ],
   "source": [
    "df.head()"
   ]
  },
  {
   "cell_type": "code",
   "execution_count": 71,
   "id": "320f3dff-0ef2-4af5-b1a0-b24c03953ae9",
   "metadata": {},
   "outputs": [
    {
     "data": {
      "text/plain": [
       "Index(['Date', 'Time', 'S1_Temp', 'S2_Temp', 'S3_Temp', 'S4_Temp', 'S1_Light',\n",
       "       'S2_Light', 'S3_Light', 'S4_Light', 'S1_Sound', 'S2_Sound', 'S3_Sound',\n",
       "       'S4_Sound', 'S5_CO2', 'S5_CO2_Slope', 'S6_PIR', 'S7_PIR',\n",
       "       'Room_Occupancy_Count'],\n",
       "      dtype='object')"
      ]
     },
     "execution_count": 71,
     "metadata": {},
     "output_type": "execute_result"
    }
   ],
   "source": [
    "df.columns"
   ]
  },
  {
   "cell_type": "code",
   "execution_count": 72,
   "id": "e33ff7e5-adf2-45b4-a0fd-0011ba5f8091",
   "metadata": {},
   "outputs": [
    {
     "data": {
      "text/plain": [
       "(10129, 19)"
      ]
     },
     "execution_count": 72,
     "metadata": {},
     "output_type": "execute_result"
    }
   ],
   "source": [
    "df.shape"
   ]
  },
  {
   "cell_type": "code",
   "execution_count": 73,
   "id": "b8510121-5fbf-4376-b51d-984b86e8005a",
   "metadata": {},
   "outputs": [
    {
     "name": "stdout",
     "output_type": "stream",
     "text": [
      "<class 'pandas.core.frame.DataFrame'>\n",
      "RangeIndex: 10129 entries, 0 to 10128\n",
      "Data columns (total 19 columns):\n",
      " #   Column                Non-Null Count  Dtype  \n",
      "---  ------                --------------  -----  \n",
      " 0   Date                  10129 non-null  object \n",
      " 1   Time                  10129 non-null  object \n",
      " 2   S1_Temp               10129 non-null  float64\n",
      " 3   S2_Temp               10129 non-null  float64\n",
      " 4   S3_Temp               10129 non-null  float64\n",
      " 5   S4_Temp               10129 non-null  float64\n",
      " 6   S1_Light              10129 non-null  int64  \n",
      " 7   S2_Light              10129 non-null  int64  \n",
      " 8   S3_Light              10129 non-null  int64  \n",
      " 9   S4_Light              10129 non-null  int64  \n",
      " 10  S1_Sound              10129 non-null  float64\n",
      " 11  S2_Sound              10129 non-null  float64\n",
      " 12  S3_Sound              10129 non-null  float64\n",
      " 13  S4_Sound              10129 non-null  float64\n",
      " 14  S5_CO2                10129 non-null  int64  \n",
      " 15  S5_CO2_Slope          10129 non-null  float64\n",
      " 16  S6_PIR                10129 non-null  int64  \n",
      " 17  S7_PIR                10129 non-null  int64  \n",
      " 18  Room_Occupancy_Count  10129 non-null  int64  \n",
      "dtypes: float64(9), int64(8), object(2)\n",
      "memory usage: 1.5+ MB\n"
     ]
    }
   ],
   "source": [
    "df.info()"
   ]
  },
  {
   "cell_type": "code",
   "execution_count": 74,
   "id": "178a6462-6f26-4179-bbc9-f46850cc7135",
   "metadata": {},
   "outputs": [
    {
     "data": {
      "text/html": [
       "<div>\n",
       "<style scoped>\n",
       "    .dataframe tbody tr th:only-of-type {\n",
       "        vertical-align: middle;\n",
       "    }\n",
       "\n",
       "    .dataframe tbody tr th {\n",
       "        vertical-align: top;\n",
       "    }\n",
       "\n",
       "    .dataframe thead th {\n",
       "        text-align: right;\n",
       "    }\n",
       "</style>\n",
       "<table border=\"1\" class=\"dataframe\">\n",
       "  <thead>\n",
       "    <tr style=\"text-align: right;\">\n",
       "      <th></th>\n",
       "      <th>S1_Temp</th>\n",
       "      <th>S2_Temp</th>\n",
       "      <th>S3_Temp</th>\n",
       "      <th>S4_Temp</th>\n",
       "      <th>S1_Light</th>\n",
       "      <th>S2_Light</th>\n",
       "      <th>S3_Light</th>\n",
       "      <th>S4_Light</th>\n",
       "      <th>S1_Sound</th>\n",
       "      <th>S2_Sound</th>\n",
       "      <th>S3_Sound</th>\n",
       "      <th>S4_Sound</th>\n",
       "      <th>S5_CO2</th>\n",
       "      <th>S5_CO2_Slope</th>\n",
       "      <th>S6_PIR</th>\n",
       "      <th>S7_PIR</th>\n",
       "      <th>Room_Occupancy_Count</th>\n",
       "    </tr>\n",
       "  </thead>\n",
       "  <tbody>\n",
       "    <tr>\n",
       "      <th>count</th>\n",
       "      <td>10129.000000</td>\n",
       "      <td>10129.000000</td>\n",
       "      <td>10129.000000</td>\n",
       "      <td>10129.000000</td>\n",
       "      <td>10129.000000</td>\n",
       "      <td>10129.00000</td>\n",
       "      <td>10129.000000</td>\n",
       "      <td>10129.000000</td>\n",
       "      <td>10129.000000</td>\n",
       "      <td>10129.000000</td>\n",
       "      <td>10129.000000</td>\n",
       "      <td>10129.000000</td>\n",
       "      <td>10129.000000</td>\n",
       "      <td>10129.000000</td>\n",
       "      <td>10129.000000</td>\n",
       "      <td>10129.000000</td>\n",
       "      <td>10129.000000</td>\n",
       "    </tr>\n",
       "    <tr>\n",
       "      <th>mean</th>\n",
       "      <td>25.454012</td>\n",
       "      <td>25.546059</td>\n",
       "      <td>25.056621</td>\n",
       "      <td>25.754125</td>\n",
       "      <td>25.445059</td>\n",
       "      <td>26.01629</td>\n",
       "      <td>34.248494</td>\n",
       "      <td>13.220259</td>\n",
       "      <td>0.168178</td>\n",
       "      <td>0.120066</td>\n",
       "      <td>0.158119</td>\n",
       "      <td>0.103840</td>\n",
       "      <td>460.860401</td>\n",
       "      <td>-0.004830</td>\n",
       "      <td>0.090137</td>\n",
       "      <td>0.079574</td>\n",
       "      <td>0.398559</td>\n",
       "    </tr>\n",
       "    <tr>\n",
       "      <th>std</th>\n",
       "      <td>0.351351</td>\n",
       "      <td>0.586325</td>\n",
       "      <td>0.427283</td>\n",
       "      <td>0.356434</td>\n",
       "      <td>51.011264</td>\n",
       "      <td>67.30417</td>\n",
       "      <td>58.400744</td>\n",
       "      <td>19.602219</td>\n",
       "      <td>0.316709</td>\n",
       "      <td>0.266503</td>\n",
       "      <td>0.413637</td>\n",
       "      <td>0.120683</td>\n",
       "      <td>199.964940</td>\n",
       "      <td>1.164990</td>\n",
       "      <td>0.286392</td>\n",
       "      <td>0.270645</td>\n",
       "      <td>0.893633</td>\n",
       "    </tr>\n",
       "    <tr>\n",
       "      <th>min</th>\n",
       "      <td>24.940000</td>\n",
       "      <td>24.750000</td>\n",
       "      <td>24.440000</td>\n",
       "      <td>24.940000</td>\n",
       "      <td>0.000000</td>\n",
       "      <td>0.00000</td>\n",
       "      <td>0.000000</td>\n",
       "      <td>0.000000</td>\n",
       "      <td>0.060000</td>\n",
       "      <td>0.040000</td>\n",
       "      <td>0.040000</td>\n",
       "      <td>0.050000</td>\n",
       "      <td>345.000000</td>\n",
       "      <td>-6.296154</td>\n",
       "      <td>0.000000</td>\n",
       "      <td>0.000000</td>\n",
       "      <td>0.000000</td>\n",
       "    </tr>\n",
       "    <tr>\n",
       "      <th>25%</th>\n",
       "      <td>25.190000</td>\n",
       "      <td>25.190000</td>\n",
       "      <td>24.690000</td>\n",
       "      <td>25.440000</td>\n",
       "      <td>0.000000</td>\n",
       "      <td>0.00000</td>\n",
       "      <td>0.000000</td>\n",
       "      <td>0.000000</td>\n",
       "      <td>0.070000</td>\n",
       "      <td>0.050000</td>\n",
       "      <td>0.060000</td>\n",
       "      <td>0.060000</td>\n",
       "      <td>355.000000</td>\n",
       "      <td>-0.046154</td>\n",
       "      <td>0.000000</td>\n",
       "      <td>0.000000</td>\n",
       "      <td>0.000000</td>\n",
       "    </tr>\n",
       "    <tr>\n",
       "      <th>50%</th>\n",
       "      <td>25.380000</td>\n",
       "      <td>25.380000</td>\n",
       "      <td>24.940000</td>\n",
       "      <td>25.750000</td>\n",
       "      <td>0.000000</td>\n",
       "      <td>0.00000</td>\n",
       "      <td>0.000000</td>\n",
       "      <td>0.000000</td>\n",
       "      <td>0.080000</td>\n",
       "      <td>0.050000</td>\n",
       "      <td>0.060000</td>\n",
       "      <td>0.080000</td>\n",
       "      <td>360.000000</td>\n",
       "      <td>0.000000</td>\n",
       "      <td>0.000000</td>\n",
       "      <td>0.000000</td>\n",
       "      <td>0.000000</td>\n",
       "    </tr>\n",
       "    <tr>\n",
       "      <th>75%</th>\n",
       "      <td>25.630000</td>\n",
       "      <td>25.630000</td>\n",
       "      <td>25.380000</td>\n",
       "      <td>26.000000</td>\n",
       "      <td>12.000000</td>\n",
       "      <td>14.00000</td>\n",
       "      <td>50.000000</td>\n",
       "      <td>22.000000</td>\n",
       "      <td>0.080000</td>\n",
       "      <td>0.060000</td>\n",
       "      <td>0.070000</td>\n",
       "      <td>0.100000</td>\n",
       "      <td>465.000000</td>\n",
       "      <td>0.000000</td>\n",
       "      <td>0.000000</td>\n",
       "      <td>0.000000</td>\n",
       "      <td>0.000000</td>\n",
       "    </tr>\n",
       "    <tr>\n",
       "      <th>max</th>\n",
       "      <td>26.380000</td>\n",
       "      <td>29.000000</td>\n",
       "      <td>26.190000</td>\n",
       "      <td>26.560000</td>\n",
       "      <td>165.000000</td>\n",
       "      <td>258.00000</td>\n",
       "      <td>280.000000</td>\n",
       "      <td>74.000000</td>\n",
       "      <td>3.880000</td>\n",
       "      <td>3.440000</td>\n",
       "      <td>3.670000</td>\n",
       "      <td>3.400000</td>\n",
       "      <td>1270.000000</td>\n",
       "      <td>8.980769</td>\n",
       "      <td>1.000000</td>\n",
       "      <td>1.000000</td>\n",
       "      <td>3.000000</td>\n",
       "    </tr>\n",
       "  </tbody>\n",
       "</table>\n",
       "</div>"
      ],
      "text/plain": [
       "            S1_Temp       S2_Temp       S3_Temp       S4_Temp      S1_Light  \\\n",
       "count  10129.000000  10129.000000  10129.000000  10129.000000  10129.000000   \n",
       "mean      25.454012     25.546059     25.056621     25.754125     25.445059   \n",
       "std        0.351351      0.586325      0.427283      0.356434     51.011264   \n",
       "min       24.940000     24.750000     24.440000     24.940000      0.000000   \n",
       "25%       25.190000     25.190000     24.690000     25.440000      0.000000   \n",
       "50%       25.380000     25.380000     24.940000     25.750000      0.000000   \n",
       "75%       25.630000     25.630000     25.380000     26.000000     12.000000   \n",
       "max       26.380000     29.000000     26.190000     26.560000    165.000000   \n",
       "\n",
       "          S2_Light      S3_Light      S4_Light      S1_Sound      S2_Sound  \\\n",
       "count  10129.00000  10129.000000  10129.000000  10129.000000  10129.000000   \n",
       "mean      26.01629     34.248494     13.220259      0.168178      0.120066   \n",
       "std       67.30417     58.400744     19.602219      0.316709      0.266503   \n",
       "min        0.00000      0.000000      0.000000      0.060000      0.040000   \n",
       "25%        0.00000      0.000000      0.000000      0.070000      0.050000   \n",
       "50%        0.00000      0.000000      0.000000      0.080000      0.050000   \n",
       "75%       14.00000     50.000000     22.000000      0.080000      0.060000   \n",
       "max      258.00000    280.000000     74.000000      3.880000      3.440000   \n",
       "\n",
       "           S3_Sound      S4_Sound        S5_CO2  S5_CO2_Slope        S6_PIR  \\\n",
       "count  10129.000000  10129.000000  10129.000000  10129.000000  10129.000000   \n",
       "mean       0.158119      0.103840    460.860401     -0.004830      0.090137   \n",
       "std        0.413637      0.120683    199.964940      1.164990      0.286392   \n",
       "min        0.040000      0.050000    345.000000     -6.296154      0.000000   \n",
       "25%        0.060000      0.060000    355.000000     -0.046154      0.000000   \n",
       "50%        0.060000      0.080000    360.000000      0.000000      0.000000   \n",
       "75%        0.070000      0.100000    465.000000      0.000000      0.000000   \n",
       "max        3.670000      3.400000   1270.000000      8.980769      1.000000   \n",
       "\n",
       "             S7_PIR  Room_Occupancy_Count  \n",
       "count  10129.000000          10129.000000  \n",
       "mean       0.079574              0.398559  \n",
       "std        0.270645              0.893633  \n",
       "min        0.000000              0.000000  \n",
       "25%        0.000000              0.000000  \n",
       "50%        0.000000              0.000000  \n",
       "75%        0.000000              0.000000  \n",
       "max        1.000000              3.000000  "
      ]
     },
     "execution_count": 74,
     "metadata": {},
     "output_type": "execute_result"
    }
   ],
   "source": [
    "df.describe()"
   ]
  },
  {
   "cell_type": "code",
   "execution_count": 75,
   "id": "52a930d2-4e00-466a-a0e2-3097c6a9bdb3",
   "metadata": {},
   "outputs": [
    {
     "data": {
      "text/plain": [
       "Date                    0\n",
       "Time                    0\n",
       "S1_Temp                 0\n",
       "S2_Temp                 0\n",
       "S3_Temp                 0\n",
       "S4_Temp                 0\n",
       "S1_Light                0\n",
       "S2_Light                0\n",
       "S3_Light                0\n",
       "S4_Light                0\n",
       "S1_Sound                0\n",
       "S2_Sound                0\n",
       "S3_Sound                0\n",
       "S4_Sound                0\n",
       "S5_CO2                  0\n",
       "S5_CO2_Slope            0\n",
       "S6_PIR                  0\n",
       "S7_PIR                  0\n",
       "Room_Occupancy_Count    0\n",
       "dtype: int64"
      ]
     },
     "execution_count": 75,
     "metadata": {},
     "output_type": "execute_result"
    }
   ],
   "source": [
    "df.isnull().sum()\n"
   ]
  },
  {
   "cell_type": "code",
   "execution_count": 76,
   "id": "b3b57847-2441-47a3-a3ac-fc9bd15e4303",
   "metadata": {},
   "outputs": [
    {
     "data": {
      "text/plain": [
       "Date                     object\n",
       "Time                     object\n",
       "S1_Temp                 float64\n",
       "S2_Temp                 float64\n",
       "S3_Temp                 float64\n",
       "S4_Temp                 float64\n",
       "S1_Light                  int64\n",
       "S2_Light                  int64\n",
       "S3_Light                  int64\n",
       "S4_Light                  int64\n",
       "S1_Sound                float64\n",
       "S2_Sound                float64\n",
       "S3_Sound                float64\n",
       "S4_Sound                float64\n",
       "S5_CO2                    int64\n",
       "S5_CO2_Slope            float64\n",
       "S6_PIR                    int64\n",
       "S7_PIR                    int64\n",
       "Room_Occupancy_Count      int64\n",
       "dtype: object"
      ]
     },
     "execution_count": 76,
     "metadata": {},
     "output_type": "execute_result"
    }
   ],
   "source": [
    "df.dtypes"
   ]
  },
  {
   "cell_type": "code",
   "execution_count": 77,
   "id": "c3a1d279-2f03-4ba0-a29a-7226205e0629",
   "metadata": {},
   "outputs": [],
   "source": [
    "df = df.drop(columns=['Time'])"
   ]
  },
  {
   "cell_type": "code",
   "execution_count": 78,
   "id": "310f5896-3c8c-40dd-85c1-9fe847080b11",
   "metadata": {},
   "outputs": [],
   "source": [
    "df = df.drop(columns=['Date'])"
   ]
  },
  {
   "cell_type": "code",
   "execution_count": 79,
   "id": "e3881a41-5d93-461a-bc37-1e0ea1478b66",
   "metadata": {},
   "outputs": [
    {
     "data": {
      "text/html": [
       "<div>\n",
       "<style scoped>\n",
       "    .dataframe tbody tr th:only-of-type {\n",
       "        vertical-align: middle;\n",
       "    }\n",
       "\n",
       "    .dataframe tbody tr th {\n",
       "        vertical-align: top;\n",
       "    }\n",
       "\n",
       "    .dataframe thead th {\n",
       "        text-align: right;\n",
       "    }\n",
       "</style>\n",
       "<table border=\"1\" class=\"dataframe\">\n",
       "  <thead>\n",
       "    <tr style=\"text-align: right;\">\n",
       "      <th></th>\n",
       "      <th>S1_Temp</th>\n",
       "      <th>S2_Temp</th>\n",
       "      <th>S3_Temp</th>\n",
       "      <th>S4_Temp</th>\n",
       "      <th>S1_Light</th>\n",
       "      <th>S2_Light</th>\n",
       "      <th>S3_Light</th>\n",
       "      <th>S4_Light</th>\n",
       "      <th>S1_Sound</th>\n",
       "      <th>S2_Sound</th>\n",
       "      <th>S3_Sound</th>\n",
       "      <th>S4_Sound</th>\n",
       "      <th>S5_CO2</th>\n",
       "      <th>S5_CO2_Slope</th>\n",
       "      <th>S6_PIR</th>\n",
       "      <th>S7_PIR</th>\n",
       "      <th>Room_Occupancy_Count</th>\n",
       "    </tr>\n",
       "  </thead>\n",
       "  <tbody>\n",
       "    <tr>\n",
       "      <th>0</th>\n",
       "      <td>24.94</td>\n",
       "      <td>24.75</td>\n",
       "      <td>24.56</td>\n",
       "      <td>25.38</td>\n",
       "      <td>121</td>\n",
       "      <td>34</td>\n",
       "      <td>53</td>\n",
       "      <td>40</td>\n",
       "      <td>0.08</td>\n",
       "      <td>0.19</td>\n",
       "      <td>0.06</td>\n",
       "      <td>0.06</td>\n",
       "      <td>390</td>\n",
       "      <td>0.769231</td>\n",
       "      <td>0</td>\n",
       "      <td>0</td>\n",
       "      <td>1</td>\n",
       "    </tr>\n",
       "    <tr>\n",
       "      <th>1</th>\n",
       "      <td>24.94</td>\n",
       "      <td>24.75</td>\n",
       "      <td>24.56</td>\n",
       "      <td>25.44</td>\n",
       "      <td>121</td>\n",
       "      <td>33</td>\n",
       "      <td>53</td>\n",
       "      <td>40</td>\n",
       "      <td>0.93</td>\n",
       "      <td>0.05</td>\n",
       "      <td>0.06</td>\n",
       "      <td>0.06</td>\n",
       "      <td>390</td>\n",
       "      <td>0.646154</td>\n",
       "      <td>0</td>\n",
       "      <td>0</td>\n",
       "      <td>1</td>\n",
       "    </tr>\n",
       "    <tr>\n",
       "      <th>2</th>\n",
       "      <td>25.00</td>\n",
       "      <td>24.75</td>\n",
       "      <td>24.50</td>\n",
       "      <td>25.44</td>\n",
       "      <td>121</td>\n",
       "      <td>34</td>\n",
       "      <td>53</td>\n",
       "      <td>40</td>\n",
       "      <td>0.43</td>\n",
       "      <td>0.11</td>\n",
       "      <td>0.08</td>\n",
       "      <td>0.06</td>\n",
       "      <td>390</td>\n",
       "      <td>0.519231</td>\n",
       "      <td>0</td>\n",
       "      <td>0</td>\n",
       "      <td>1</td>\n",
       "    </tr>\n",
       "    <tr>\n",
       "      <th>3</th>\n",
       "      <td>25.00</td>\n",
       "      <td>24.75</td>\n",
       "      <td>24.56</td>\n",
       "      <td>25.44</td>\n",
       "      <td>121</td>\n",
       "      <td>34</td>\n",
       "      <td>53</td>\n",
       "      <td>40</td>\n",
       "      <td>0.41</td>\n",
       "      <td>0.10</td>\n",
       "      <td>0.10</td>\n",
       "      <td>0.09</td>\n",
       "      <td>390</td>\n",
       "      <td>0.388462</td>\n",
       "      <td>0</td>\n",
       "      <td>0</td>\n",
       "      <td>1</td>\n",
       "    </tr>\n",
       "    <tr>\n",
       "      <th>4</th>\n",
       "      <td>25.00</td>\n",
       "      <td>24.75</td>\n",
       "      <td>24.56</td>\n",
       "      <td>25.44</td>\n",
       "      <td>121</td>\n",
       "      <td>34</td>\n",
       "      <td>54</td>\n",
       "      <td>40</td>\n",
       "      <td>0.18</td>\n",
       "      <td>0.06</td>\n",
       "      <td>0.06</td>\n",
       "      <td>0.06</td>\n",
       "      <td>390</td>\n",
       "      <td>0.253846</td>\n",
       "      <td>0</td>\n",
       "      <td>0</td>\n",
       "      <td>1</td>\n",
       "    </tr>\n",
       "  </tbody>\n",
       "</table>\n",
       "</div>"
      ],
      "text/plain": [
       "   S1_Temp  S2_Temp  S3_Temp  S4_Temp  S1_Light  S2_Light  S3_Light  S4_Light  \\\n",
       "0    24.94    24.75    24.56    25.38       121        34        53        40   \n",
       "1    24.94    24.75    24.56    25.44       121        33        53        40   \n",
       "2    25.00    24.75    24.50    25.44       121        34        53        40   \n",
       "3    25.00    24.75    24.56    25.44       121        34        53        40   \n",
       "4    25.00    24.75    24.56    25.44       121        34        54        40   \n",
       "\n",
       "   S1_Sound  S2_Sound  S3_Sound  S4_Sound  S5_CO2  S5_CO2_Slope  S6_PIR  \\\n",
       "0      0.08      0.19      0.06      0.06     390      0.769231       0   \n",
       "1      0.93      0.05      0.06      0.06     390      0.646154       0   \n",
       "2      0.43      0.11      0.08      0.06     390      0.519231       0   \n",
       "3      0.41      0.10      0.10      0.09     390      0.388462       0   \n",
       "4      0.18      0.06      0.06      0.06     390      0.253846       0   \n",
       "\n",
       "   S7_PIR  Room_Occupancy_Count  \n",
       "0       0                     1  \n",
       "1       0                     1  \n",
       "2       0                     1  \n",
       "3       0                     1  \n",
       "4       0                     1  "
      ]
     },
     "execution_count": 79,
     "metadata": {},
     "output_type": "execute_result"
    }
   ],
   "source": [
    "df.head()"
   ]
  },
  {
   "cell_type": "code",
   "execution_count": 81,
   "id": "90a9bb56-38f2-4b59-9cc7-18aa58515cc9",
   "metadata": {},
   "outputs": [],
   "source": [
    "# Handling Inbalanced Data"
   ]
  },
  {
   "cell_type": "code",
   "execution_count": 82,
   "id": "4dd0458b-b880-4894-b599-f9f6594b0efc",
   "metadata": {},
   "outputs": [],
   "source": [
    "target_value_count=df['Room_Occupancy_Count'].value_counts()"
   ]
  },
  {
   "cell_type": "code",
   "execution_count": 83,
   "id": "817c5fc8-b72f-43fc-b6d7-a72922b2bafc",
   "metadata": {},
   "outputs": [
    {
     "data": {
      "text/plain": [
       "Room_Occupancy_Count\n",
       "0    8228\n",
       "2     748\n",
       "3     694\n",
       "1     459\n",
       "Name: count, dtype: int64"
      ]
     },
     "execution_count": 83,
     "metadata": {},
     "output_type": "execute_result"
    }
   ],
   "source": [
    "target_value_count"
   ]
  },
  {
   "cell_type": "code",
   "execution_count": 84,
   "id": "6dcecc25-5dc3-4089-a3cb-b04b17064db5",
   "metadata": {},
   "outputs": [],
   "source": [
    "smote=SMOTE()\n",
    "x_smote, y_smote = smote.fit_resample(df[(i for i in list(df.describe(include='all').columns) if i != 'Room_Occupancy_Count')], df['Room_Occupancy_Count'])"
   ]
  },
  {
   "cell_type": "code",
   "execution_count": 85,
   "id": "459b0d2c-1b6b-406f-a2b0-702ba29ce402",
   "metadata": {},
   "outputs": [
    {
     "name": "stdout",
     "output_type": "stream",
     "text": [
      "Original unbalanced dataset shape 10129\n",
      "Resampled balanced dataset shape 32912\n"
     ]
    }
   ],
   "source": [
    "print('Original unbalanced dataset shape', len(df))\n",
    "print('Resampled balanced dataset shape', len(y_smote))"
   ]
  },
  {
   "cell_type": "code",
   "execution_count": 86,
   "id": "312edf96-2929-483c-9147-a20bf4998551",
   "metadata": {},
   "outputs": [],
   "source": [
    "balanced_df = pd.DataFrame(x_smote, columns=list(i for i in list(df.describe(include='all').columns) if i != 'Room_Occupancy_Count'))"
   ]
  },
  {
   "cell_type": "code",
   "execution_count": 87,
   "id": "4dce3aa0-7f85-46fd-a95a-2ba7f185e213",
   "metadata": {},
   "outputs": [],
   "source": [
    "balanced_df['Room_Occupancy_Count'] = y_smote"
   ]
  },
  {
   "cell_type": "code",
   "execution_count": 88,
   "id": "a2895c07-f1e2-4f92-9da5-eb0ea079ddf3",
   "metadata": {},
   "outputs": [
    {
     "data": {
      "text/plain": [
       "(32912, 17)"
      ]
     },
     "execution_count": 88,
     "metadata": {},
     "output_type": "execute_result"
    }
   ],
   "source": [
    "balanced_df.shape"
   ]
  },
  {
   "cell_type": "code",
   "execution_count": 89,
   "id": "eff8f203-37dc-4cdf-aeff-75fbcaae9982",
   "metadata": {},
   "outputs": [
    {
     "data": {
      "text/plain": [
       "Room_Occupancy_Count\n",
       "1    8228\n",
       "2    8228\n",
       "3    8228\n",
       "0    8228\n",
       "Name: count, dtype: int64"
      ]
     },
     "execution_count": 89,
     "metadata": {},
     "output_type": "execute_result"
    }
   ],
   "source": [
    "target_value_count=balanced_df['Room_Occupancy_Count'].value_counts()\n",
    "target_value_count"
   ]
  },
  {
   "cell_type": "code",
   "execution_count": 90,
   "id": "9daeb411-ddba-4b36-ace9-f90e33a83a92",
   "metadata": {},
   "outputs": [
    {
     "data": {
      "text/html": [
       "<div>\n",
       "<style scoped>\n",
       "    .dataframe tbody tr th:only-of-type {\n",
       "        vertical-align: middle;\n",
       "    }\n",
       "\n",
       "    .dataframe tbody tr th {\n",
       "        vertical-align: top;\n",
       "    }\n",
       "\n",
       "    .dataframe thead th {\n",
       "        text-align: right;\n",
       "    }\n",
       "</style>\n",
       "<table border=\"1\" class=\"dataframe\">\n",
       "  <thead>\n",
       "    <tr style=\"text-align: right;\">\n",
       "      <th></th>\n",
       "      <th>S1_Temp</th>\n",
       "      <th>S2_Temp</th>\n",
       "      <th>S3_Temp</th>\n",
       "      <th>S4_Temp</th>\n",
       "      <th>S1_Light</th>\n",
       "      <th>S2_Light</th>\n",
       "      <th>S3_Light</th>\n",
       "      <th>S4_Light</th>\n",
       "      <th>S1_Sound</th>\n",
       "      <th>S2_Sound</th>\n",
       "      <th>S3_Sound</th>\n",
       "      <th>S4_Sound</th>\n",
       "      <th>S5_CO2</th>\n",
       "      <th>S5_CO2_Slope</th>\n",
       "      <th>S6_PIR</th>\n",
       "      <th>S7_PIR</th>\n",
       "      <th>Room_Occupancy_Count</th>\n",
       "    </tr>\n",
       "  </thead>\n",
       "  <tbody>\n",
       "    <tr>\n",
       "      <th>0</th>\n",
       "      <td>24.94</td>\n",
       "      <td>24.75</td>\n",
       "      <td>24.56</td>\n",
       "      <td>25.38</td>\n",
       "      <td>121</td>\n",
       "      <td>34</td>\n",
       "      <td>53</td>\n",
       "      <td>40</td>\n",
       "      <td>0.08</td>\n",
       "      <td>0.19</td>\n",
       "      <td>0.06</td>\n",
       "      <td>0.06</td>\n",
       "      <td>390</td>\n",
       "      <td>0.769231</td>\n",
       "      <td>0</td>\n",
       "      <td>0</td>\n",
       "      <td>1</td>\n",
       "    </tr>\n",
       "    <tr>\n",
       "      <th>1</th>\n",
       "      <td>24.94</td>\n",
       "      <td>24.75</td>\n",
       "      <td>24.56</td>\n",
       "      <td>25.44</td>\n",
       "      <td>121</td>\n",
       "      <td>33</td>\n",
       "      <td>53</td>\n",
       "      <td>40</td>\n",
       "      <td>0.93</td>\n",
       "      <td>0.05</td>\n",
       "      <td>0.06</td>\n",
       "      <td>0.06</td>\n",
       "      <td>390</td>\n",
       "      <td>0.646154</td>\n",
       "      <td>0</td>\n",
       "      <td>0</td>\n",
       "      <td>1</td>\n",
       "    </tr>\n",
       "    <tr>\n",
       "      <th>2</th>\n",
       "      <td>25.00</td>\n",
       "      <td>24.75</td>\n",
       "      <td>24.50</td>\n",
       "      <td>25.44</td>\n",
       "      <td>121</td>\n",
       "      <td>34</td>\n",
       "      <td>53</td>\n",
       "      <td>40</td>\n",
       "      <td>0.43</td>\n",
       "      <td>0.11</td>\n",
       "      <td>0.08</td>\n",
       "      <td>0.06</td>\n",
       "      <td>390</td>\n",
       "      <td>0.519231</td>\n",
       "      <td>0</td>\n",
       "      <td>0</td>\n",
       "      <td>1</td>\n",
       "    </tr>\n",
       "    <tr>\n",
       "      <th>3</th>\n",
       "      <td>25.00</td>\n",
       "      <td>24.75</td>\n",
       "      <td>24.56</td>\n",
       "      <td>25.44</td>\n",
       "      <td>121</td>\n",
       "      <td>34</td>\n",
       "      <td>53</td>\n",
       "      <td>40</td>\n",
       "      <td>0.41</td>\n",
       "      <td>0.10</td>\n",
       "      <td>0.10</td>\n",
       "      <td>0.09</td>\n",
       "      <td>390</td>\n",
       "      <td>0.388462</td>\n",
       "      <td>0</td>\n",
       "      <td>0</td>\n",
       "      <td>1</td>\n",
       "    </tr>\n",
       "    <tr>\n",
       "      <th>4</th>\n",
       "      <td>25.00</td>\n",
       "      <td>24.75</td>\n",
       "      <td>24.56</td>\n",
       "      <td>25.44</td>\n",
       "      <td>121</td>\n",
       "      <td>34</td>\n",
       "      <td>54</td>\n",
       "      <td>40</td>\n",
       "      <td>0.18</td>\n",
       "      <td>0.06</td>\n",
       "      <td>0.06</td>\n",
       "      <td>0.06</td>\n",
       "      <td>390</td>\n",
       "      <td>0.253846</td>\n",
       "      <td>0</td>\n",
       "      <td>0</td>\n",
       "      <td>1</td>\n",
       "    </tr>\n",
       "  </tbody>\n",
       "</table>\n",
       "</div>"
      ],
      "text/plain": [
       "   S1_Temp  S2_Temp  S3_Temp  S4_Temp  S1_Light  S2_Light  S3_Light  S4_Light  \\\n",
       "0    24.94    24.75    24.56    25.38       121        34        53        40   \n",
       "1    24.94    24.75    24.56    25.44       121        33        53        40   \n",
       "2    25.00    24.75    24.50    25.44       121        34        53        40   \n",
       "3    25.00    24.75    24.56    25.44       121        34        53        40   \n",
       "4    25.00    24.75    24.56    25.44       121        34        54        40   \n",
       "\n",
       "   S1_Sound  S2_Sound  S3_Sound  S4_Sound  S5_CO2  S5_CO2_Slope  S6_PIR  \\\n",
       "0      0.08      0.19      0.06      0.06     390      0.769231       0   \n",
       "1      0.93      0.05      0.06      0.06     390      0.646154       0   \n",
       "2      0.43      0.11      0.08      0.06     390      0.519231       0   \n",
       "3      0.41      0.10      0.10      0.09     390      0.388462       0   \n",
       "4      0.18      0.06      0.06      0.06     390      0.253846       0   \n",
       "\n",
       "   S7_PIR  Room_Occupancy_Count  \n",
       "0       0                     1  \n",
       "1       0                     1  \n",
       "2       0                     1  \n",
       "3       0                     1  \n",
       "4       0                     1  "
      ]
     },
     "execution_count": 90,
     "metadata": {},
     "output_type": "execute_result"
    }
   ],
   "source": [
    "balanced_df.head()"
   ]
  },
  {
   "cell_type": "code",
   "execution_count": 121,
   "id": "eee1383a-2ee1-4542-8ec9-5a015875bd3c",
   "metadata": {},
   "outputs": [
    {
     "data": {
      "text/plain": [
       "1301"
      ]
     },
     "execution_count": 121,
     "metadata": {},
     "output_type": "execute_result"
    }
   ],
   "source": [
    "balanced_df.duplicated().sum()"
   ]
  },
  {
   "cell_type": "code",
   "execution_count": 123,
   "id": "71cd86e5-e605-46a3-9bbf-cdd585c08c2c",
   "metadata": {},
   "outputs": [],
   "source": [
    "balanced_df.drop_duplicates(inplace = True)"
   ]
  },
  {
   "cell_type": "code",
   "execution_count": 125,
   "id": "add09078-3441-4c13-85ac-5899992008c9",
   "metadata": {},
   "outputs": [
    {
     "data": {
      "text/plain": [
       "0"
      ]
     },
     "execution_count": 125,
     "metadata": {},
     "output_type": "execute_result"
    }
   ],
   "source": [
    "balanced_df.duplicated().sum()"
   ]
  },
  {
   "cell_type": "code",
   "execution_count": 127,
   "id": "77918793-cd97-4a79-94b9-678a2ca65b1a",
   "metadata": {},
   "outputs": [
    {
     "data": {
      "text/plain": [
       "S1_Temp                 0\n",
       "S2_Temp                 0\n",
       "S3_Temp                 0\n",
       "S4_Temp                 0\n",
       "S1_Light                0\n",
       "S2_Light                0\n",
       "S3_Light                0\n",
       "S4_Light                0\n",
       "S1_Sound                0\n",
       "S2_Sound                0\n",
       "S3_Sound                0\n",
       "S4_Sound                0\n",
       "S5_CO2                  0\n",
       "S5_CO2_Slope            0\n",
       "S6_PIR                  0\n",
       "S7_PIR                  0\n",
       "Room_Occupancy_Count    0\n",
       "dtype: int64"
      ]
     },
     "execution_count": 127,
     "metadata": {},
     "output_type": "execute_result"
    }
   ],
   "source": [
    "\n",
    "balanced_df.isnull().sum()"
   ]
  },
  {
   "cell_type": "code",
   "execution_count": 129,
   "id": "3bef73fb-c93d-40dd-bac5-44ef2ea72dbc",
   "metadata": {},
   "outputs": [
    {
     "data": {
      "text/html": [
       "<div>\n",
       "<style scoped>\n",
       "    .dataframe tbody tr th:only-of-type {\n",
       "        vertical-align: middle;\n",
       "    }\n",
       "\n",
       "    .dataframe tbody tr th {\n",
       "        vertical-align: top;\n",
       "    }\n",
       "\n",
       "    .dataframe thead th {\n",
       "        text-align: right;\n",
       "    }\n",
       "</style>\n",
       "<table border=\"1\" class=\"dataframe\">\n",
       "  <thead>\n",
       "    <tr style=\"text-align: right;\">\n",
       "      <th></th>\n",
       "      <th>S1_Temp</th>\n",
       "      <th>S2_Temp</th>\n",
       "      <th>S3_Temp</th>\n",
       "      <th>S4_Temp</th>\n",
       "      <th>S1_Light</th>\n",
       "      <th>S2_Light</th>\n",
       "      <th>S3_Light</th>\n",
       "      <th>S4_Light</th>\n",
       "      <th>S1_Sound</th>\n",
       "      <th>S2_Sound</th>\n",
       "      <th>S3_Sound</th>\n",
       "      <th>S4_Sound</th>\n",
       "      <th>S5_CO2</th>\n",
       "      <th>S5_CO2_Slope</th>\n",
       "      <th>S6_PIR</th>\n",
       "      <th>S7_PIR</th>\n",
       "      <th>Room_Occupancy_Count</th>\n",
       "    </tr>\n",
       "  </thead>\n",
       "  <tbody>\n",
       "    <tr>\n",
       "      <th>0</th>\n",
       "      <td>24.94</td>\n",
       "      <td>24.750000</td>\n",
       "      <td>24.56</td>\n",
       "      <td>25.380000</td>\n",
       "      <td>121</td>\n",
       "      <td>34</td>\n",
       "      <td>53</td>\n",
       "      <td>40</td>\n",
       "      <td>0.080000</td>\n",
       "      <td>0.190000</td>\n",
       "      <td>0.060000</td>\n",
       "      <td>0.060000</td>\n",
       "      <td>390</td>\n",
       "      <td>0.769231</td>\n",
       "      <td>0</td>\n",
       "      <td>0</td>\n",
       "      <td>1</td>\n",
       "    </tr>\n",
       "    <tr>\n",
       "      <th>1</th>\n",
       "      <td>24.94</td>\n",
       "      <td>24.750000</td>\n",
       "      <td>24.56</td>\n",
       "      <td>25.440000</td>\n",
       "      <td>121</td>\n",
       "      <td>33</td>\n",
       "      <td>53</td>\n",
       "      <td>40</td>\n",
       "      <td>0.930000</td>\n",
       "      <td>0.050000</td>\n",
       "      <td>0.060000</td>\n",
       "      <td>0.060000</td>\n",
       "      <td>390</td>\n",
       "      <td>0.646154</td>\n",
       "      <td>0</td>\n",
       "      <td>0</td>\n",
       "      <td>1</td>\n",
       "    </tr>\n",
       "    <tr>\n",
       "      <th>2</th>\n",
       "      <td>25.00</td>\n",
       "      <td>24.750000</td>\n",
       "      <td>24.50</td>\n",
       "      <td>25.440000</td>\n",
       "      <td>121</td>\n",
       "      <td>34</td>\n",
       "      <td>53</td>\n",
       "      <td>40</td>\n",
       "      <td>0.430000</td>\n",
       "      <td>0.110000</td>\n",
       "      <td>0.080000</td>\n",
       "      <td>0.060000</td>\n",
       "      <td>390</td>\n",
       "      <td>0.519231</td>\n",
       "      <td>0</td>\n",
       "      <td>0</td>\n",
       "      <td>1</td>\n",
       "    </tr>\n",
       "    <tr>\n",
       "      <th>3</th>\n",
       "      <td>25.00</td>\n",
       "      <td>24.750000</td>\n",
       "      <td>24.56</td>\n",
       "      <td>25.440000</td>\n",
       "      <td>121</td>\n",
       "      <td>34</td>\n",
       "      <td>53</td>\n",
       "      <td>40</td>\n",
       "      <td>0.410000</td>\n",
       "      <td>0.100000</td>\n",
       "      <td>0.100000</td>\n",
       "      <td>0.090000</td>\n",
       "      <td>390</td>\n",
       "      <td>0.388462</td>\n",
       "      <td>0</td>\n",
       "      <td>0</td>\n",
       "      <td>1</td>\n",
       "    </tr>\n",
       "    <tr>\n",
       "      <th>4</th>\n",
       "      <td>25.00</td>\n",
       "      <td>24.750000</td>\n",
       "      <td>24.56</td>\n",
       "      <td>25.440000</td>\n",
       "      <td>121</td>\n",
       "      <td>34</td>\n",
       "      <td>54</td>\n",
       "      <td>40</td>\n",
       "      <td>0.180000</td>\n",
       "      <td>0.060000</td>\n",
       "      <td>0.060000</td>\n",
       "      <td>0.060000</td>\n",
       "      <td>390</td>\n",
       "      <td>0.253846</td>\n",
       "      <td>0</td>\n",
       "      <td>0</td>\n",
       "      <td>1</td>\n",
       "    </tr>\n",
       "    <tr>\n",
       "      <th>...</th>\n",
       "      <td>...</td>\n",
       "      <td>...</td>\n",
       "      <td>...</td>\n",
       "      <td>...</td>\n",
       "      <td>...</td>\n",
       "      <td>...</td>\n",
       "      <td>...</td>\n",
       "      <td>...</td>\n",
       "      <td>...</td>\n",
       "      <td>...</td>\n",
       "      <td>...</td>\n",
       "      <td>...</td>\n",
       "      <td>...</td>\n",
       "      <td>...</td>\n",
       "      <td>...</td>\n",
       "      <td>...</td>\n",
       "      <td>...</td>\n",
       "    </tr>\n",
       "    <tr>\n",
       "      <th>32907</th>\n",
       "      <td>26.19</td>\n",
       "      <td>27.223269</td>\n",
       "      <td>26.06</td>\n",
       "      <td>26.310000</td>\n",
       "      <td>163</td>\n",
       "      <td>252</td>\n",
       "      <td>272</td>\n",
       "      <td>74</td>\n",
       "      <td>0.651163</td>\n",
       "      <td>0.271574</td>\n",
       "      <td>0.125545</td>\n",
       "      <td>0.146828</td>\n",
       "      <td>962</td>\n",
       "      <td>1.999544</td>\n",
       "      <td>1</td>\n",
       "      <td>0</td>\n",
       "      <td>3</td>\n",
       "    </tr>\n",
       "    <tr>\n",
       "      <th>32908</th>\n",
       "      <td>25.63</td>\n",
       "      <td>26.250000</td>\n",
       "      <td>25.44</td>\n",
       "      <td>25.690000</td>\n",
       "      <td>10</td>\n",
       "      <td>10</td>\n",
       "      <td>38</td>\n",
       "      <td>34</td>\n",
       "      <td>0.295677</td>\n",
       "      <td>0.333533</td>\n",
       "      <td>0.545746</td>\n",
       "      <td>0.090000</td>\n",
       "      <td>375</td>\n",
       "      <td>0.279931</td>\n",
       "      <td>0</td>\n",
       "      <td>1</td>\n",
       "      <td>3</td>\n",
       "    </tr>\n",
       "    <tr>\n",
       "      <th>32909</th>\n",
       "      <td>26.25</td>\n",
       "      <td>26.310000</td>\n",
       "      <td>25.88</td>\n",
       "      <td>26.324524</td>\n",
       "      <td>150</td>\n",
       "      <td>234</td>\n",
       "      <td>186</td>\n",
       "      <td>10</td>\n",
       "      <td>0.129798</td>\n",
       "      <td>0.158674</td>\n",
       "      <td>0.088674</td>\n",
       "      <td>0.067925</td>\n",
       "      <td>1000</td>\n",
       "      <td>2.418145</td>\n",
       "      <td>0</td>\n",
       "      <td>0</td>\n",
       "      <td>3</td>\n",
       "    </tr>\n",
       "    <tr>\n",
       "      <th>32910</th>\n",
       "      <td>25.69</td>\n",
       "      <td>26.381133</td>\n",
       "      <td>25.56</td>\n",
       "      <td>25.750000</td>\n",
       "      <td>9</td>\n",
       "      <td>8</td>\n",
       "      <td>33</td>\n",
       "      <td>29</td>\n",
       "      <td>0.106042</td>\n",
       "      <td>0.058686</td>\n",
       "      <td>0.091322</td>\n",
       "      <td>0.090566</td>\n",
       "      <td>444</td>\n",
       "      <td>2.541945</td>\n",
       "      <td>0</td>\n",
       "      <td>0</td>\n",
       "      <td>3</td>\n",
       "    </tr>\n",
       "    <tr>\n",
       "      <th>32911</th>\n",
       "      <td>26.25</td>\n",
       "      <td>26.380000</td>\n",
       "      <td>25.94</td>\n",
       "      <td>26.380000</td>\n",
       "      <td>150</td>\n",
       "      <td>235</td>\n",
       "      <td>186</td>\n",
       "      <td>10</td>\n",
       "      <td>0.368836</td>\n",
       "      <td>0.241338</td>\n",
       "      <td>0.453784</td>\n",
       "      <td>0.111261</td>\n",
       "      <td>1050</td>\n",
       "      <td>2.118895</td>\n",
       "      <td>1</td>\n",
       "      <td>1</td>\n",
       "      <td>3</td>\n",
       "    </tr>\n",
       "  </tbody>\n",
       "</table>\n",
       "<p>31611 rows × 17 columns</p>\n",
       "</div>"
      ],
      "text/plain": [
       "       S1_Temp    S2_Temp  S3_Temp    S4_Temp  S1_Light  S2_Light  S3_Light  \\\n",
       "0        24.94  24.750000    24.56  25.380000       121        34        53   \n",
       "1        24.94  24.750000    24.56  25.440000       121        33        53   \n",
       "2        25.00  24.750000    24.50  25.440000       121        34        53   \n",
       "3        25.00  24.750000    24.56  25.440000       121        34        53   \n",
       "4        25.00  24.750000    24.56  25.440000       121        34        54   \n",
       "...        ...        ...      ...        ...       ...       ...       ...   \n",
       "32907    26.19  27.223269    26.06  26.310000       163       252       272   \n",
       "32908    25.63  26.250000    25.44  25.690000        10        10        38   \n",
       "32909    26.25  26.310000    25.88  26.324524       150       234       186   \n",
       "32910    25.69  26.381133    25.56  25.750000         9         8        33   \n",
       "32911    26.25  26.380000    25.94  26.380000       150       235       186   \n",
       "\n",
       "       S4_Light  S1_Sound  S2_Sound  S3_Sound  S4_Sound  S5_CO2  S5_CO2_Slope  \\\n",
       "0            40  0.080000  0.190000  0.060000  0.060000     390      0.769231   \n",
       "1            40  0.930000  0.050000  0.060000  0.060000     390      0.646154   \n",
       "2            40  0.430000  0.110000  0.080000  0.060000     390      0.519231   \n",
       "3            40  0.410000  0.100000  0.100000  0.090000     390      0.388462   \n",
       "4            40  0.180000  0.060000  0.060000  0.060000     390      0.253846   \n",
       "...         ...       ...       ...       ...       ...     ...           ...   \n",
       "32907        74  0.651163  0.271574  0.125545  0.146828     962      1.999544   \n",
       "32908        34  0.295677  0.333533  0.545746  0.090000     375      0.279931   \n",
       "32909        10  0.129798  0.158674  0.088674  0.067925    1000      2.418145   \n",
       "32910        29  0.106042  0.058686  0.091322  0.090566     444      2.541945   \n",
       "32911        10  0.368836  0.241338  0.453784  0.111261    1050      2.118895   \n",
       "\n",
       "       S6_PIR  S7_PIR  Room_Occupancy_Count  \n",
       "0           0       0                     1  \n",
       "1           0       0                     1  \n",
       "2           0       0                     1  \n",
       "3           0       0                     1  \n",
       "4           0       0                     1  \n",
       "...       ...     ...                   ...  \n",
       "32907       1       0                     3  \n",
       "32908       0       1                     3  \n",
       "32909       0       0                     3  \n",
       "32910       0       0                     3  \n",
       "32911       1       1                     3  \n",
       "\n",
       "[31611 rows x 17 columns]"
      ]
     },
     "execution_count": 129,
     "metadata": {},
     "output_type": "execute_result"
    }
   ],
   "source": [
    "df1=balanced_df.copy()\n",
    "df1"
   ]
  },
  {
   "cell_type": "code",
   "execution_count": 131,
   "id": "234f8bb2-c8db-49a0-bab3-45ca9dde6e86",
   "metadata": {},
   "outputs": [
    {
     "data": {
      "text/html": [
       "<div>\n",
       "<style scoped>\n",
       "    .dataframe tbody tr th:only-of-type {\n",
       "        vertical-align: middle;\n",
       "    }\n",
       "\n",
       "    .dataframe tbody tr th {\n",
       "        vertical-align: top;\n",
       "    }\n",
       "\n",
       "    .dataframe thead th {\n",
       "        text-align: right;\n",
       "    }\n",
       "</style>\n",
       "<table border=\"1\" class=\"dataframe\">\n",
       "  <thead>\n",
       "    <tr style=\"text-align: right;\">\n",
       "      <th></th>\n",
       "      <th>count</th>\n",
       "      <th>mean</th>\n",
       "      <th>std</th>\n",
       "      <th>min</th>\n",
       "      <th>25%</th>\n",
       "      <th>50%</th>\n",
       "      <th>75%</th>\n",
       "      <th>max</th>\n",
       "    </tr>\n",
       "  </thead>\n",
       "  <tbody>\n",
       "    <tr>\n",
       "      <th>S1_Temp</th>\n",
       "      <td>31611.0</td>\n",
       "      <td>25.809828</td>\n",
       "      <td>0.383867</td>\n",
       "      <td>24.940000</td>\n",
       "      <td>25.500000</td>\n",
       "      <td>25.940000</td>\n",
       "      <td>26.130000</td>\n",
       "      <td>26.380000</td>\n",
       "    </tr>\n",
       "    <tr>\n",
       "      <th>S2_Temp</th>\n",
       "      <td>31611.0</td>\n",
       "      <td>26.066068</td>\n",
       "      <td>0.816466</td>\n",
       "      <td>24.750000</td>\n",
       "      <td>25.440000</td>\n",
       "      <td>25.880000</td>\n",
       "      <td>26.380000</td>\n",
       "      <td>29.000000</td>\n",
       "    </tr>\n",
       "    <tr>\n",
       "      <th>S3_Temp</th>\n",
       "      <td>31611.0</td>\n",
       "      <td>25.439455</td>\n",
       "      <td>0.442241</td>\n",
       "      <td>24.440000</td>\n",
       "      <td>25.112351</td>\n",
       "      <td>25.518487</td>\n",
       "      <td>25.810000</td>\n",
       "      <td>26.190000</td>\n",
       "    </tr>\n",
       "    <tr>\n",
       "      <th>S4_Temp</th>\n",
       "      <td>31611.0</td>\n",
       "      <td>26.051302</td>\n",
       "      <td>0.327850</td>\n",
       "      <td>24.940000</td>\n",
       "      <td>25.810000</td>\n",
       "      <td>26.190000</td>\n",
       "      <td>26.310000</td>\n",
       "      <td>26.560000</td>\n",
       "    </tr>\n",
       "    <tr>\n",
       "      <th>S1_Light</th>\n",
       "      <td>31611.0</td>\n",
       "      <td>96.868748</td>\n",
       "      <td>61.172371</td>\n",
       "      <td>0.000000</td>\n",
       "      <td>10.000000</td>\n",
       "      <td>119.000000</td>\n",
       "      <td>149.000000</td>\n",
       "      <td>165.000000</td>\n",
       "    </tr>\n",
       "    <tr>\n",
       "      <th>S2_Light</th>\n",
       "      <td>31611.0</td>\n",
       "      <td>90.400905</td>\n",
       "      <td>104.905984</td>\n",
       "      <td>0.000000</td>\n",
       "      <td>11.000000</td>\n",
       "      <td>27.000000</td>\n",
       "      <td>234.000000</td>\n",
       "      <td>258.000000</td>\n",
       "    </tr>\n",
       "    <tr>\n",
       "      <th>S3_Light</th>\n",
       "      <td>31611.0</td>\n",
       "      <td>93.832780</td>\n",
       "      <td>78.378851</td>\n",
       "      <td>0.000000</td>\n",
       "      <td>33.000000</td>\n",
       "      <td>68.000000</td>\n",
       "      <td>180.000000</td>\n",
       "      <td>280.000000</td>\n",
       "    </tr>\n",
       "    <tr>\n",
       "      <th>S4_Light</th>\n",
       "      <td>31611.0</td>\n",
       "      <td>26.616526</td>\n",
       "      <td>21.580418</td>\n",
       "      <td>0.000000</td>\n",
       "      <td>10.000000</td>\n",
       "      <td>21.000000</td>\n",
       "      <td>45.000000</td>\n",
       "      <td>74.000000</td>\n",
       "    </tr>\n",
       "    <tr>\n",
       "      <th>S1_Sound</th>\n",
       "      <td>31611.0</td>\n",
       "      <td>0.423166</td>\n",
       "      <td>0.445107</td>\n",
       "      <td>0.060000</td>\n",
       "      <td>0.081278</td>\n",
       "      <td>0.273685</td>\n",
       "      <td>0.614526</td>\n",
       "      <td>3.880000</td>\n",
       "    </tr>\n",
       "    <tr>\n",
       "      <th>S2_Sound</th>\n",
       "      <td>31611.0</td>\n",
       "      <td>0.295289</td>\n",
       "      <td>0.389817</td>\n",
       "      <td>0.040000</td>\n",
       "      <td>0.059061</td>\n",
       "      <td>0.146666</td>\n",
       "      <td>0.381167</td>\n",
       "      <td>3.440000</td>\n",
       "    </tr>\n",
       "    <tr>\n",
       "      <th>S3_Sound</th>\n",
       "      <td>31611.0</td>\n",
       "      <td>0.397332</td>\n",
       "      <td>0.639454</td>\n",
       "      <td>0.040000</td>\n",
       "      <td>0.068383</td>\n",
       "      <td>0.139890</td>\n",
       "      <td>0.362195</td>\n",
       "      <td>3.670000</td>\n",
       "    </tr>\n",
       "    <tr>\n",
       "      <th>S4_Sound</th>\n",
       "      <td>31611.0</td>\n",
       "      <td>0.163690</td>\n",
       "      <td>0.180179</td>\n",
       "      <td>0.050000</td>\n",
       "      <td>0.070000</td>\n",
       "      <td>0.100000</td>\n",
       "      <td>0.172761</td>\n",
       "      <td>3.400000</td>\n",
       "    </tr>\n",
       "    <tr>\n",
       "      <th>S5_CO2</th>\n",
       "      <td>31611.0</td>\n",
       "      <td>620.839644</td>\n",
       "      <td>251.578570</td>\n",
       "      <td>345.000000</td>\n",
       "      <td>380.000000</td>\n",
       "      <td>575.000000</td>\n",
       "      <td>810.000000</td>\n",
       "      <td>1270.000000</td>\n",
       "    </tr>\n",
       "    <tr>\n",
       "      <th>S5_CO2_Slope</th>\n",
       "      <td>31611.0</td>\n",
       "      <td>0.861872</td>\n",
       "      <td>1.474532</td>\n",
       "      <td>-6.296154</td>\n",
       "      <td>0.000000</td>\n",
       "      <td>0.652867</td>\n",
       "      <td>1.720194</td>\n",
       "      <td>8.980769</td>\n",
       "    </tr>\n",
       "    <tr>\n",
       "      <th>S6_PIR</th>\n",
       "      <td>31611.0</td>\n",
       "      <td>0.211350</td>\n",
       "      <td>0.408273</td>\n",
       "      <td>0.000000</td>\n",
       "      <td>0.000000</td>\n",
       "      <td>0.000000</td>\n",
       "      <td>0.000000</td>\n",
       "      <td>1.000000</td>\n",
       "    </tr>\n",
       "    <tr>\n",
       "      <th>S7_PIR</th>\n",
       "      <td>31611.0</td>\n",
       "      <td>0.204233</td>\n",
       "      <td>0.403146</td>\n",
       "      <td>0.000000</td>\n",
       "      <td>0.000000</td>\n",
       "      <td>0.000000</td>\n",
       "      <td>0.000000</td>\n",
       "      <td>1.000000</td>\n",
       "    </tr>\n",
       "    <tr>\n",
       "      <th>Room_Occupancy_Count</th>\n",
       "      <td>31611.0</td>\n",
       "      <td>1.561735</td>\n",
       "      <td>1.097757</td>\n",
       "      <td>0.000000</td>\n",
       "      <td>1.000000</td>\n",
       "      <td>2.000000</td>\n",
       "      <td>3.000000</td>\n",
       "      <td>3.000000</td>\n",
       "    </tr>\n",
       "  </tbody>\n",
       "</table>\n",
       "</div>"
      ],
      "text/plain": [
       "                        count        mean         std         min         25%  \\\n",
       "S1_Temp               31611.0   25.809828    0.383867   24.940000   25.500000   \n",
       "S2_Temp               31611.0   26.066068    0.816466   24.750000   25.440000   \n",
       "S3_Temp               31611.0   25.439455    0.442241   24.440000   25.112351   \n",
       "S4_Temp               31611.0   26.051302    0.327850   24.940000   25.810000   \n",
       "S1_Light              31611.0   96.868748   61.172371    0.000000   10.000000   \n",
       "S2_Light              31611.0   90.400905  104.905984    0.000000   11.000000   \n",
       "S3_Light              31611.0   93.832780   78.378851    0.000000   33.000000   \n",
       "S4_Light              31611.0   26.616526   21.580418    0.000000   10.000000   \n",
       "S1_Sound              31611.0    0.423166    0.445107    0.060000    0.081278   \n",
       "S2_Sound              31611.0    0.295289    0.389817    0.040000    0.059061   \n",
       "S3_Sound              31611.0    0.397332    0.639454    0.040000    0.068383   \n",
       "S4_Sound              31611.0    0.163690    0.180179    0.050000    0.070000   \n",
       "S5_CO2                31611.0  620.839644  251.578570  345.000000  380.000000   \n",
       "S5_CO2_Slope          31611.0    0.861872    1.474532   -6.296154    0.000000   \n",
       "S6_PIR                31611.0    0.211350    0.408273    0.000000    0.000000   \n",
       "S7_PIR                31611.0    0.204233    0.403146    0.000000    0.000000   \n",
       "Room_Occupancy_Count  31611.0    1.561735    1.097757    0.000000    1.000000   \n",
       "\n",
       "                             50%         75%          max  \n",
       "S1_Temp                25.940000   26.130000    26.380000  \n",
       "S2_Temp                25.880000   26.380000    29.000000  \n",
       "S3_Temp                25.518487   25.810000    26.190000  \n",
       "S4_Temp                26.190000   26.310000    26.560000  \n",
       "S1_Light              119.000000  149.000000   165.000000  \n",
       "S2_Light               27.000000  234.000000   258.000000  \n",
       "S3_Light               68.000000  180.000000   280.000000  \n",
       "S4_Light               21.000000   45.000000    74.000000  \n",
       "S1_Sound                0.273685    0.614526     3.880000  \n",
       "S2_Sound                0.146666    0.381167     3.440000  \n",
       "S3_Sound                0.139890    0.362195     3.670000  \n",
       "S4_Sound                0.100000    0.172761     3.400000  \n",
       "S5_CO2                575.000000  810.000000  1270.000000  \n",
       "S5_CO2_Slope            0.652867    1.720194     8.980769  \n",
       "S6_PIR                  0.000000    0.000000     1.000000  \n",
       "S7_PIR                  0.000000    0.000000     1.000000  \n",
       "Room_Occupancy_Count    2.000000    3.000000     3.000000  "
      ]
     },
     "execution_count": 131,
     "metadata": {},
     "output_type": "execute_result"
    }
   ],
   "source": [
    "df1.describe().T"
   ]
  },
  {
   "cell_type": "code",
   "execution_count": 133,
   "id": "8d340de4-129b-4b88-ad1f-196c609ca848",
   "metadata": {},
   "outputs": [
    {
     "data": {
      "image/png": "[encoded data removed]",
      "text/plain": [
       "<Figure size 1500x1600 with 20 Axes>"
      ]
     },
     "metadata": {},
     "output_type": "display_data"
    }
   ],
   "source": [
    "df1.hist(figsize=(15, 16), bins=30)\n",
    "plt.show()"
   ]
  },
  {
   "cell_type": "code",
   "execution_count": 135,
   "id": "1d16e73e-ccea-448b-ad74-ebe0547ceaae",
   "metadata": {},
   "outputs": [
    {
     "name": "stdout",
     "output_type": "stream",
     "text": [
      "       S1_Temp    S2_Temp  S3_Temp    S4_Temp  S1_Light  S2_Light  S3_Light  \\\n",
      "0        24.94  24.750000    24.56  25.380000       121        34        53   \n",
      "1        24.94  24.750000    24.56  25.440000       121        33        53   \n",
      "2        25.00  24.750000    24.50  25.440000       121        34        53   \n",
      "3        25.00  24.750000    24.56  25.440000       121        34        53   \n",
      "4        25.00  24.750000    24.56  25.440000       121        34        54   \n",
      "...        ...        ...      ...        ...       ...       ...       ...   \n",
      "32907    26.19  27.223269    26.06  26.310000       163       252       272   \n",
      "32908    25.63  26.250000    25.44  25.690000        10        10        38   \n",
      "32909    26.25  26.310000    25.88  26.324524       150       234       186   \n",
      "32910    25.69  26.381133    25.56  25.750000         9         8        33   \n",
      "32911    26.25  26.380000    25.94  26.380000       150       235       186   \n",
      "\n",
      "       S4_Light  S1_Sound  S2_Sound  S3_Sound  S4_Sound  S5_CO2  S5_CO2_Slope  \\\n",
      "0            40  0.080000  0.190000  0.060000  0.060000     390      0.769231   \n",
      "1            40  0.930000  0.050000  0.060000  0.060000     390      0.646154   \n",
      "2            40  0.430000  0.110000  0.080000  0.060000     390      0.519231   \n",
      "3            40  0.410000  0.100000  0.100000  0.090000     390      0.388462   \n",
      "4            40  0.180000  0.060000  0.060000  0.060000     390      0.253846   \n",
      "...         ...       ...       ...       ...       ...     ...           ...   \n",
      "32907        74  0.651163  0.271574  0.125545  0.146828     962      1.999544   \n",
      "32908        34  0.295677  0.333533  0.545746  0.090000     375      0.279931   \n",
      "32909        10  0.129798  0.158674  0.088674  0.067925    1000      2.418145   \n",
      "32910        29  0.106042  0.058686  0.091322  0.090566     444      2.541945   \n",
      "32911        10  0.368836  0.241338  0.453784  0.111261    1050      2.118895   \n",
      "\n",
      "       S6_PIR  S7_PIR  Room_Occupancy_Count  \n",
      "0           0       0                     1  \n",
      "1           0       0                     1  \n",
      "2           0       0                     1  \n",
      "3           0       0                     1  \n",
      "4           0       0                     1  \n",
      "...       ...     ...                   ...  \n",
      "32907       1       0                     3  \n",
      "32908       0       1                     3  \n",
      "32909       0       0                     3  \n",
      "32910       0       0                     3  \n",
      "32911       1       1                     3  \n",
      "\n",
      "[31611 rows x 17 columns]\n"
     ]
    }
   ],
   "source": [
    "numerical_features = df1.select_dtypes(include = 'number')\n",
    "print(numerical_features)"
   ]
  },
  {
   "cell_type": "code",
   "execution_count": null,
   "id": "eab8230b-b82f-4c2e-bf69-6b834352cb51",
   "metadata": {},
   "outputs": [],
   "source": []
  },
  {
   "cell_type": "code",
   "execution_count": 137,
   "id": "e97afde9-5aae-49db-ad04-28edbb1b5ded",
   "metadata": {},
   "outputs": [],
   "source": [
    "# Handling Outliers"
   ]
  },
  {
   "cell_type": "code",
   "execution_count": 140,
   "id": "e58ff43a-eb9f-4c94-aa4e-e67d899638a8",
   "metadata": {},
   "outputs": [
    {
     "data": {
      "text/plain": [
       "Text(0.5, 1.0, 'Box Plot of Credit Card Usage')"
      ]
     },
     "execution_count": 140,
     "metadata": {},
     "output_type": "execute_result"
    },
    {
     "data": {
      "image/png": "[encoded data removed]",
      "text/plain": [
       "<Figure size 1600x800 with 1 Axes>"
      ]
     },
     "metadata": {},
     "output_type": "display_data"
    }
   ],
   "source": [
    "plt.figure(figsize = (16,8))\n",
    "sns.boxplot(df1[numerical_features.columns])\n",
    "plt.title(\"Box Plot of Credit Card Usage\", fontsize=15)"
   ]
  },
  {
   "cell_type": "code",
   "execution_count": 142,
   "id": "a3e04a82-ca40-462e-897d-5f6f35e68a48",
   "metadata": {},
   "outputs": [
    {
     "data": {
      "image/png": "[encoded data removed]",
      "text/plain": [
       "<Figure size 640x480 with 1 Axes>"
      ]
     },
     "metadata": {},
     "output_type": "display_data"
    },
    {
     "data": {
      "text/plain": [
       "<Figure size 500x500 with 0 Axes>"
      ]
     },
     "metadata": {},
     "output_type": "display_data"
    },
    {
     "data": {
      "image/png": "[encoded data removed]",
      "text/plain": [
       "<Figure size 640x480 with 1 Axes>"
      ]
     },
     "metadata": {},
     "output_type": "display_data"
    },
    {
     "data": {
      "text/plain": [
       "<Figure size 500x500 with 0 Axes>"
      ]
     },
     "metadata": {},
     "output_type": "display_data"
    },
    {
     "data": {
      "image/png": "[encoded data removed]",
      "text/plain": [
       "<Figure size 640x480 with 1 Axes>"
      ]
     },
     "metadata": {},
     "output_type": "display_data"
    },
    {
     "data": {
      "text/plain": [
       "<Figure size 500x500 with 0 Axes>"
      ]
     },
     "metadata": {},
     "output_type": "display_data"
    },
    {
     "data": {
      "image/png": "[encoded data removed]",
      "text/plain": [
       "<Figure size 640x480 with 1 Axes>"
      ]
     },
     "metadata": {},
     "output_type": "display_data"
    },
    {
     "data": {
      "text/plain": [
       "<Figure size 500x500 with 0 Axes>"
      ]
     },
     "metadata": {},
     "output_type": "display_data"
    },
    {
     "data": {
      "image/png": "[encoded data removed]",
      "text/plain": [
       "<Figure size 640x480 with 1 Axes>"
      ]
     },
     "metadata": {},
     "output_type": "display_data"
    },
    {
     "data": {
      "text/plain": [
       "<Figure size 500x500 with 0 Axes>"
      ]
     },
     "metadata": {},
     "output_type": "display_data"
    },
    {
     "data": {
      "image/png": "[encoded data removed]",
      "text/plain": [
       "<Figure size 640x480 with 1 Axes>"
      ]
     },
     "metadata": {},
     "output_type": "display_data"
    },
    {
     "data": {
      "text/plain": [
       "<Figure size 500x500 with 0 Axes>"
      ]
     },
     "metadata": {},
     "output_type": "display_data"
    },
    {
     "data": {
      "image/png": "[encoded data removed]",
      "text/plain": [
       "<Figure size 640x480 with 1 Axes>"
      ]
     },
     "metadata": {},
     "output_type": "display_data"
    },
    {
     "data": {
      "text/plain": [
       "<Figure size 500x500 with 0 Axes>"
      ]
     },
     "metadata": {},
     "output_type": "display_data"
    },
    {
     "data": {
      "image/png": "[encoded data removed]",
      "text/plain": [
       "<Figure size 640x480 with 1 Axes>"
      ]
     },
     "metadata": {},
     "output_type": "display_data"
    },
    {
     "data": {
      "text/plain": [
       "<Figure size 500x500 with 0 Axes>"
      ]
     },
     "metadata": {},
     "output_type": "display_data"
    },
    {
     "data": {
      "image/png": "[encoded data removed]",
      "text/plain": [
       "<Figure size 640x480 with 1 Axes>"
      ]
     },
     "metadata": {},
     "output_type": "display_data"
    },
    {
     "data": {
      "text/plain": [
       "<Figure size 500x500 with 0 Axes>"
      ]
     },
     "metadata": {},
     "output_type": "display_data"
    },
    {
     "data": {
      "image/png": "[encoded data removed]",
      "text/plain": [
       "<Figure size 640x480 with 1 Axes>"
      ]
     },
     "metadata": {},
     "output_type": "display_data"
    },
    {
     "data": {
      "text/plain": [
       "<Figure size 500x500 with 0 Axes>"
      ]
     },
     "metadata": {},
     "output_type": "display_data"
    },
    {
     "data": {
      "image/png": "[encoded data removed]",
      "text/plain": [
       "<Figure size 640x480 with 1 Axes>"
      ]
     },
     "metadata": {},
     "output_type": "display_data"
    },
    {
     "data": {
      "text/plain": [
       "<Figure size 500x500 with 0 Axes>"
      ]
     },
     "metadata": {},
     "output_type": "display_data"
    },
    {
     "data": {
      "image/png": "[encoded data removed]",
      "text/plain": [
       "<Figure size 640x480 with 1 Axes>"
      ]
     },
     "metadata": {},
     "output_type": "display_data"
    },
    {
     "data": {
      "text/plain": [
       "<Figure size 500x500 with 0 Axes>"
      ]
     },
     "metadata": {},
     "output_type": "display_data"
    },
    {
     "data": {
      "image/png": "[encoded data removed]",
      "text/plain": [
       "<Figure size 640x480 with 1 Axes>"
      ]
     },
     "metadata": {},
     "output_type": "display_data"
    },
    {
     "data": {
      "text/plain": [
       "<Figure size 500x500 with 0 Axes>"
      ]
     },
     "metadata": {},
     "output_type": "display_data"
    },
    {
     "data": {
      "image/png": "[encoded data removed]",
      "text/plain": [
       "<Figure size 640x480 with 1 Axes>"
      ]
     },
     "metadata": {},
     "output_type": "display_data"
    },
    {
     "data": {
      "text/plain": [
       "<Figure size 500x500 with 0 Axes>"
      ]
     },
     "metadata": {},
     "output_type": "display_data"
    },
    {
     "data": {
      "image/png": "[encoded data removed]",
      "text/plain": [
       "<Figure size 640x480 with 1 Axes>"
      ]
     },
     "metadata": {},
     "output_type": "display_data"
    },
    {
     "data": {
      "text/plain": [
       "<Figure size 500x500 with 0 Axes>"
      ]
     },
     "metadata": {},
     "output_type": "display_data"
    },
    {
     "data": {
      "image/png": "[encoded data removed]",
      "text/plain": [
       "<Figure size 640x480 with 1 Axes>"
      ]
     },
     "metadata": {},
     "output_type": "display_data"
    },
    {
     "data": {
      "text/plain": [
       "<Figure size 500x500 with 0 Axes>"
      ]
     },
     "metadata": {},
     "output_type": "display_data"
    },
    {
     "data": {
      "image/png": "[encoded data removed]",
      "text/plain": [
       "<Figure size 640x480 with 1 Axes>"
      ]
     },
     "metadata": {},
     "output_type": "display_data"
    },
    {
     "data": {
      "text/plain": [
       "<Figure size 500x500 with 0 Axes>"
      ]
     },
     "metadata": {},
     "output_type": "display_data"
    }
   ],
   "source": [
    "for i in numerical_features.columns:\n",
    "    sns.boxplot(x=i,data=df1,color ='red')\n",
    "    plt.figure(figsize=(5, 5))\n",
    "    plt.show()"
   ]
  },
  {
   "cell_type": "code",
   "execution_count": 144,
   "id": "b7dcda87-5598-4151-9d30-3424a33f17d7",
   "metadata": {},
   "outputs": [],
   "source": [
    "def remove_outliers(df):\n",
    "    for col in df1.select_dtypes(include=['number']).columns:\n",
    "        Q1 = df[col].quantile(0.25)\n",
    "        Q3 =df[col].quantile(0.75)\n",
    "\n",
    "        IQR =Q3-Q1\n",
    "        lower = Q1 - (1.5 * IQR)\n",
    "        upper = Q3 + (1.5* IQR)\n",
    "\n",
    "        df[col] = df[col].apply(lambda x: lower if x < lower else upper if x >upper else x)\n",
    "    return df"
   ]
  },
  {
   "cell_type": "code",
   "execution_count": 146,
   "id": "fee586f1-a512-4f8a-9178-2b2efb7f26fd",
   "metadata": {},
   "outputs": [],
   "source": [
    "\n",
    "df2 = remove_outliers(df1)"
   ]
  },
  {
   "cell_type": "code",
   "execution_count": 148,
   "id": "7b32096f-f0ea-420b-bc1e-badd904de127",
   "metadata": {},
   "outputs": [
    {
     "data": {
      "image/png": "[encoded data removed]",
      "text/plain": [
       "<Figure size 640x480 with 1 Axes>"
      ]
     },
     "metadata": {},
     "output_type": "display_data"
    },
    {
     "data": {
      "text/plain": [
       "<Figure size 600x600 with 0 Axes>"
      ]
     },
     "metadata": {},
     "output_type": "display_data"
    },
    {
     "data": {
      "image/png": "[encoded data removed]",
      "text/plain": [
       "<Figure size 640x480 with 1 Axes>"
      ]
     },
     "metadata": {},
     "output_type": "display_data"
    },
    {
     "data": {
      "text/plain": [
       "<Figure size 600x600 with 0 Axes>"
      ]
     },
     "metadata": {},
     "output_type": "display_data"
    },
    {
     "data": {
      "image/png": "[encoded data removed]",
      "text/plain": [
       "<Figure size 640x480 with 1 Axes>"
      ]
     },
     "metadata": {},
     "output_type": "display_data"
    },
    {
     "data": {
      "text/plain": [
       "<Figure size 600x600 with 0 Axes>"
      ]
     },
     "metadata": {},
     "output_type": "display_data"
    },
    {
     "data": {
      "image/png": "[encoded data removed]",
      "text/plain": [
       "<Figure size 640x480 with 1 Axes>"
      ]
     },
     "metadata": {},
     "output_type": "display_data"
    },
    {
     "data": {
      "text/plain": [
       "<Figure size 600x600 with 0 Axes>"
      ]
     },
     "metadata": {},
     "output_type": "display_data"
    },
    {
     "data": {
      "image/png": "[encoded data removed]",
      "text/plain": [
       "<Figure size 640x480 with 1 Axes>"
      ]
     },
     "metadata": {},
     "output_type": "display_data"
    },
    {
     "data": {
      "text/plain": [
       "<Figure size 600x600 with 0 Axes>"
      ]
     },
     "metadata": {},
     "output_type": "display_data"
    },
    {
     "data": {
      "image/png": "[encoded data removed]",
      "text/plain": [
       "<Figure size 640x480 with 1 Axes>"
      ]
     },
     "metadata": {},
     "output_type": "display_data"
    },
    {
     "data": {
      "text/plain": [
       "<Figure size 600x600 with 0 Axes>"
      ]
     },
     "metadata": {},
     "output_type": "display_data"
    },
    {
     "data": {
      "image/png": "[encoded data removed]",
      "text/plain": [
       "<Figure size 640x480 with 1 Axes>"
      ]
     },
     "metadata": {},
     "output_type": "display_data"
    },
    {
     "data": {
      "text/plain": [
       "<Figure size 600x600 with 0 Axes>"
      ]
     },
     "metadata": {},
     "output_type": "display_data"
    },
    {
     "data": {
      "image/png": "[encoded data removed]",
      "text/plain": [
       "<Figure size 640x480 with 1 Axes>"
      ]
     },
     "metadata": {},
     "output_type": "display_data"
    },
    {
     "data": {
      "text/plain": [
       "<Figure size 600x600 with 0 Axes>"
      ]
     },
     "metadata": {},
     "output_type": "display_data"
    },
    {
     "data": {
      "image/png": "[encoded data removed]",
      "text/plain": [
       "<Figure size 640x480 with 1 Axes>"
      ]
     },
     "metadata": {},
     "output_type": "display_data"
    },
    {
     "data": {
      "text/plain": [
       "<Figure size 600x600 with 0 Axes>"
      ]
     },
     "metadata": {},
     "output_type": "display_data"
    },
    {
     "data": {
      "image/png": "[encoded data removed]",
      "text/plain": [
       "<Figure size 640x480 with 1 Axes>"
      ]
     },
     "metadata": {},
     "output_type": "display_data"
    },
    {
     "data": {
      "text/plain": [
       "<Figure size 600x600 with 0 Axes>"
      ]
     },
     "metadata": {},
     "output_type": "display_data"
    },
    {
     "data": {
      "image/png": "[encoded data removed]",
      "text/plain": [
       "<Figure size 640x480 with 1 Axes>"
      ]
     },
     "metadata": {},
     "output_type": "display_data"
    },
    {
     "data": {
      "text/plain": [
       "<Figure size 600x600 with 0 Axes>"
      ]
     },
     "metadata": {},
     "output_type": "display_data"
    },
    {
     "data": {
      "image/png": "[encoded data removed]",
      "text/plain": [
       "<Figure size 640x480 with 1 Axes>"
      ]
     },
     "metadata": {},
     "output_type": "display_data"
    },
    {
     "data": {
      "text/plain": [
       "<Figure size 600x600 with 0 Axes>"
      ]
     },
     "metadata": {},
     "output_type": "display_data"
    },
    {
     "data": {
      "image/png": "[encoded data removed]",
      "text/plain": [
       "<Figure size 640x480 with 1 Axes>"
      ]
     },
     "metadata": {},
     "output_type": "display_data"
    },
    {
     "data": {
      "text/plain": [
       "<Figure size 600x600 with 0 Axes>"
      ]
     },
     "metadata": {},
     "output_type": "display_data"
    },
    {
     "data": {
      "image/png": "[encoded data removed]",
      "text/plain": [
       "<Figure size 640x480 with 1 Axes>"
      ]
     },
     "metadata": {},
     "output_type": "display_data"
    },
    {
     "data": {
      "text/plain": [
       "<Figure size 600x600 with 0 Axes>"
      ]
     },
     "metadata": {},
     "output_type": "display_data"
    },
    {
     "data": {
      "image/png": "[encoded data removed]",
      "text/plain": [
       "<Figure size 640x480 with 1 Axes>"
      ]
     },
     "metadata": {},
     "output_type": "display_data"
    },
    {
     "data": {
      "text/plain": [
       "<Figure size 600x600 with 0 Axes>"
      ]
     },
     "metadata": {},
     "output_type": "display_data"
    },
    {
     "data": {
      "image/png": "[encoded data removed]",
      "text/plain": [
       "<Figure size 640x480 with 1 Axes>"
      ]
     },
     "metadata": {},
     "output_type": "display_data"
    },
    {
     "data": {
      "text/plain": [
       "<Figure size 600x600 with 0 Axes>"
      ]
     },
     "metadata": {},
     "output_type": "display_data"
    },
    {
     "data": {
      "image/png": "[encoded data removed]",
      "text/plain": [
       "<Figure size 640x480 with 1 Axes>"
      ]
     },
     "metadata": {},
     "output_type": "display_data"
    },
    {
     "data": {
      "text/plain": [
       "<Figure size 600x600 with 0 Axes>"
      ]
     },
     "metadata": {},
     "output_type": "display_data"
    }
   ],
   "source": [
    "for i in numerical_features.columns:\n",
    "    sns.boxplot(x=i,data=df2,color ='black')\n",
    "    plt.figure(figsize=(6, 6))\n",
    "    plt.show()"
   ]
  },
  {
   "cell_type": "code",
   "execution_count": 150,
   "id": "2c195bc3-55fc-422b-9268-d8cdc3df62b4",
   "metadata": {},
   "outputs": [
    {
     "data": {
      "text/html": [
       "<div>\n",
       "<style scoped>\n",
       "    .dataframe tbody tr th:only-of-type {\n",
       "        vertical-align: middle;\n",
       "    }\n",
       "\n",
       "    .dataframe tbody tr th {\n",
       "        vertical-align: top;\n",
       "    }\n",
       "\n",
       "    .dataframe thead th {\n",
       "        text-align: right;\n",
       "    }\n",
       "</style>\n",
       "<table border=\"1\" class=\"dataframe\">\n",
       "  <thead>\n",
       "    <tr style=\"text-align: right;\">\n",
       "      <th></th>\n",
       "      <th>S1_Temp</th>\n",
       "      <th>S2_Temp</th>\n",
       "      <th>S3_Temp</th>\n",
       "      <th>S4_Temp</th>\n",
       "      <th>S1_Light</th>\n",
       "      <th>S2_Light</th>\n",
       "      <th>S3_Light</th>\n",
       "      <th>S4_Light</th>\n",
       "      <th>S1_Sound</th>\n",
       "      <th>S2_Sound</th>\n",
       "      <th>S3_Sound</th>\n",
       "      <th>S4_Sound</th>\n",
       "      <th>S5_CO2</th>\n",
       "      <th>S5_CO2_Slope</th>\n",
       "      <th>S6_PIR</th>\n",
       "      <th>S7_PIR</th>\n",
       "      <th>Room_Occupancy_Count</th>\n",
       "    </tr>\n",
       "  </thead>\n",
       "  <tbody>\n",
       "    <tr>\n",
       "      <th>0</th>\n",
       "      <td>24.94</td>\n",
       "      <td>24.750000</td>\n",
       "      <td>24.56</td>\n",
       "      <td>25.380000</td>\n",
       "      <td>121</td>\n",
       "      <td>34</td>\n",
       "      <td>53</td>\n",
       "      <td>40</td>\n",
       "      <td>0.080000</td>\n",
       "      <td>0.190000</td>\n",
       "      <td>0.060000</td>\n",
       "      <td>0.060000</td>\n",
       "      <td>390</td>\n",
       "      <td>0.769231</td>\n",
       "      <td>0.0</td>\n",
       "      <td>0.0</td>\n",
       "      <td>1</td>\n",
       "    </tr>\n",
       "    <tr>\n",
       "      <th>1</th>\n",
       "      <td>24.94</td>\n",
       "      <td>24.750000</td>\n",
       "      <td>24.56</td>\n",
       "      <td>25.440000</td>\n",
       "      <td>121</td>\n",
       "      <td>33</td>\n",
       "      <td>53</td>\n",
       "      <td>40</td>\n",
       "      <td>0.930000</td>\n",
       "      <td>0.050000</td>\n",
       "      <td>0.060000</td>\n",
       "      <td>0.060000</td>\n",
       "      <td>390</td>\n",
       "      <td>0.646154</td>\n",
       "      <td>0.0</td>\n",
       "      <td>0.0</td>\n",
       "      <td>1</td>\n",
       "    </tr>\n",
       "    <tr>\n",
       "      <th>2</th>\n",
       "      <td>25.00</td>\n",
       "      <td>24.750000</td>\n",
       "      <td>24.50</td>\n",
       "      <td>25.440000</td>\n",
       "      <td>121</td>\n",
       "      <td>34</td>\n",
       "      <td>53</td>\n",
       "      <td>40</td>\n",
       "      <td>0.430000</td>\n",
       "      <td>0.110000</td>\n",
       "      <td>0.080000</td>\n",
       "      <td>0.060000</td>\n",
       "      <td>390</td>\n",
       "      <td>0.519231</td>\n",
       "      <td>0.0</td>\n",
       "      <td>0.0</td>\n",
       "      <td>1</td>\n",
       "    </tr>\n",
       "    <tr>\n",
       "      <th>3</th>\n",
       "      <td>25.00</td>\n",
       "      <td>24.750000</td>\n",
       "      <td>24.56</td>\n",
       "      <td>25.440000</td>\n",
       "      <td>121</td>\n",
       "      <td>34</td>\n",
       "      <td>53</td>\n",
       "      <td>40</td>\n",
       "      <td>0.410000</td>\n",
       "      <td>0.100000</td>\n",
       "      <td>0.100000</td>\n",
       "      <td>0.090000</td>\n",
       "      <td>390</td>\n",
       "      <td>0.388462</td>\n",
       "      <td>0.0</td>\n",
       "      <td>0.0</td>\n",
       "      <td>1</td>\n",
       "    </tr>\n",
       "    <tr>\n",
       "      <th>4</th>\n",
       "      <td>25.00</td>\n",
       "      <td>24.750000</td>\n",
       "      <td>24.56</td>\n",
       "      <td>25.440000</td>\n",
       "      <td>121</td>\n",
       "      <td>34</td>\n",
       "      <td>54</td>\n",
       "      <td>40</td>\n",
       "      <td>0.180000</td>\n",
       "      <td>0.060000</td>\n",
       "      <td>0.060000</td>\n",
       "      <td>0.060000</td>\n",
       "      <td>390</td>\n",
       "      <td>0.253846</td>\n",
       "      <td>0.0</td>\n",
       "      <td>0.0</td>\n",
       "      <td>1</td>\n",
       "    </tr>\n",
       "    <tr>\n",
       "      <th>...</th>\n",
       "      <td>...</td>\n",
       "      <td>...</td>\n",
       "      <td>...</td>\n",
       "      <td>...</td>\n",
       "      <td>...</td>\n",
       "      <td>...</td>\n",
       "      <td>...</td>\n",
       "      <td>...</td>\n",
       "      <td>...</td>\n",
       "      <td>...</td>\n",
       "      <td>...</td>\n",
       "      <td>...</td>\n",
       "      <td>...</td>\n",
       "      <td>...</td>\n",
       "      <td>...</td>\n",
       "      <td>...</td>\n",
       "      <td>...</td>\n",
       "    </tr>\n",
       "    <tr>\n",
       "      <th>32907</th>\n",
       "      <td>26.19</td>\n",
       "      <td>27.223269</td>\n",
       "      <td>26.06</td>\n",
       "      <td>26.310000</td>\n",
       "      <td>163</td>\n",
       "      <td>252</td>\n",
       "      <td>272</td>\n",
       "      <td>74</td>\n",
       "      <td>0.651163</td>\n",
       "      <td>0.271574</td>\n",
       "      <td>0.125545</td>\n",
       "      <td>0.146828</td>\n",
       "      <td>962</td>\n",
       "      <td>1.999544</td>\n",
       "      <td>0.0</td>\n",
       "      <td>0.0</td>\n",
       "      <td>3</td>\n",
       "    </tr>\n",
       "    <tr>\n",
       "      <th>32908</th>\n",
       "      <td>25.63</td>\n",
       "      <td>26.250000</td>\n",
       "      <td>25.44</td>\n",
       "      <td>25.690000</td>\n",
       "      <td>10</td>\n",
       "      <td>10</td>\n",
       "      <td>38</td>\n",
       "      <td>34</td>\n",
       "      <td>0.295677</td>\n",
       "      <td>0.333533</td>\n",
       "      <td>0.545746</td>\n",
       "      <td>0.090000</td>\n",
       "      <td>375</td>\n",
       "      <td>0.279931</td>\n",
       "      <td>0.0</td>\n",
       "      <td>0.0</td>\n",
       "      <td>3</td>\n",
       "    </tr>\n",
       "    <tr>\n",
       "      <th>32909</th>\n",
       "      <td>26.25</td>\n",
       "      <td>26.310000</td>\n",
       "      <td>25.88</td>\n",
       "      <td>26.324524</td>\n",
       "      <td>150</td>\n",
       "      <td>234</td>\n",
       "      <td>186</td>\n",
       "      <td>10</td>\n",
       "      <td>0.129798</td>\n",
       "      <td>0.158674</td>\n",
       "      <td>0.088674</td>\n",
       "      <td>0.067925</td>\n",
       "      <td>1000</td>\n",
       "      <td>2.418145</td>\n",
       "      <td>0.0</td>\n",
       "      <td>0.0</td>\n",
       "      <td>3</td>\n",
       "    </tr>\n",
       "    <tr>\n",
       "      <th>32910</th>\n",
       "      <td>25.69</td>\n",
       "      <td>26.381133</td>\n",
       "      <td>25.56</td>\n",
       "      <td>25.750000</td>\n",
       "      <td>9</td>\n",
       "      <td>8</td>\n",
       "      <td>33</td>\n",
       "      <td>29</td>\n",
       "      <td>0.106042</td>\n",
       "      <td>0.058686</td>\n",
       "      <td>0.091322</td>\n",
       "      <td>0.090566</td>\n",
       "      <td>444</td>\n",
       "      <td>2.541945</td>\n",
       "      <td>0.0</td>\n",
       "      <td>0.0</td>\n",
       "      <td>3</td>\n",
       "    </tr>\n",
       "    <tr>\n",
       "      <th>32911</th>\n",
       "      <td>26.25</td>\n",
       "      <td>26.380000</td>\n",
       "      <td>25.94</td>\n",
       "      <td>26.380000</td>\n",
       "      <td>150</td>\n",
       "      <td>235</td>\n",
       "      <td>186</td>\n",
       "      <td>10</td>\n",
       "      <td>0.368836</td>\n",
       "      <td>0.241338</td>\n",
       "      <td>0.453784</td>\n",
       "      <td>0.111261</td>\n",
       "      <td>1050</td>\n",
       "      <td>2.118895</td>\n",
       "      <td>0.0</td>\n",
       "      <td>0.0</td>\n",
       "      <td>3</td>\n",
       "    </tr>\n",
       "  </tbody>\n",
       "</table>\n",
       "<p>31611 rows × 17 columns</p>\n",
       "</div>"
      ],
      "text/plain": [
       "       S1_Temp    S2_Temp  S3_Temp    S4_Temp  S1_Light  S2_Light  S3_Light  \\\n",
       "0        24.94  24.750000    24.56  25.380000       121        34        53   \n",
       "1        24.94  24.750000    24.56  25.440000       121        33        53   \n",
       "2        25.00  24.750000    24.50  25.440000       121        34        53   \n",
       "3        25.00  24.750000    24.56  25.440000       121        34        53   \n",
       "4        25.00  24.750000    24.56  25.440000       121        34        54   \n",
       "...        ...        ...      ...        ...       ...       ...       ...   \n",
       "32907    26.19  27.223269    26.06  26.310000       163       252       272   \n",
       "32908    25.63  26.250000    25.44  25.690000        10        10        38   \n",
       "32909    26.25  26.310000    25.88  26.324524       150       234       186   \n",
       "32910    25.69  26.381133    25.56  25.750000         9         8        33   \n",
       "32911    26.25  26.380000    25.94  26.380000       150       235       186   \n",
       "\n",
       "       S4_Light  S1_Sound  S2_Sound  S3_Sound  S4_Sound  S5_CO2  S5_CO2_Slope  \\\n",
       "0            40  0.080000  0.190000  0.060000  0.060000     390      0.769231   \n",
       "1            40  0.930000  0.050000  0.060000  0.060000     390      0.646154   \n",
       "2            40  0.430000  0.110000  0.080000  0.060000     390      0.519231   \n",
       "3            40  0.410000  0.100000  0.100000  0.090000     390      0.388462   \n",
       "4            40  0.180000  0.060000  0.060000  0.060000     390      0.253846   \n",
       "...         ...       ...       ...       ...       ...     ...           ...   \n",
       "32907        74  0.651163  0.271574  0.125545  0.146828     962      1.999544   \n",
       "32908        34  0.295677  0.333533  0.545746  0.090000     375      0.279931   \n",
       "32909        10  0.129798  0.158674  0.088674  0.067925    1000      2.418145   \n",
       "32910        29  0.106042  0.058686  0.091322  0.090566     444      2.541945   \n",
       "32911        10  0.368836  0.241338  0.453784  0.111261    1050      2.118895   \n",
       "\n",
       "       S6_PIR  S7_PIR  Room_Occupancy_Count  \n",
       "0         0.0     0.0                     1  \n",
       "1         0.0     0.0                     1  \n",
       "2         0.0     0.0                     1  \n",
       "3         0.0     0.0                     1  \n",
       "4         0.0     0.0                     1  \n",
       "...       ...     ...                   ...  \n",
       "32907     0.0     0.0                     3  \n",
       "32908     0.0     0.0                     3  \n",
       "32909     0.0     0.0                     3  \n",
       "32910     0.0     0.0                     3  \n",
       "32911     0.0     0.0                     3  \n",
       "\n",
       "[31611 rows x 17 columns]"
      ]
     },
     "execution_count": 150,
     "metadata": {},
     "output_type": "execute_result"
    }
   ],
   "source": [
    "df3 = df2[numerical_features.columns]\n",
    "df3"
   ]
  },
  {
   "cell_type": "code",
   "execution_count": 152,
   "id": "775d8369-84fb-4f7e-b95e-9a5df5f886d1",
   "metadata": {},
   "outputs": [
    {
     "data": {
      "text/html": [
       "<div>\n",
       "<style scoped>\n",
       "    .dataframe tbody tr th:only-of-type {\n",
       "        vertical-align: middle;\n",
       "    }\n",
       "\n",
       "    .dataframe tbody tr th {\n",
       "        vertical-align: top;\n",
       "    }\n",
       "\n",
       "    .dataframe thead th {\n",
       "        text-align: right;\n",
       "    }\n",
       "</style>\n",
       "<table border=\"1\" class=\"dataframe\">\n",
       "  <thead>\n",
       "    <tr style=\"text-align: right;\">\n",
       "      <th></th>\n",
       "      <th>S1_Temp</th>\n",
       "      <th>S2_Temp</th>\n",
       "      <th>S3_Temp</th>\n",
       "      <th>S4_Temp</th>\n",
       "      <th>S1_Light</th>\n",
       "      <th>S2_Light</th>\n",
       "      <th>S3_Light</th>\n",
       "      <th>S4_Light</th>\n",
       "      <th>S1_Sound</th>\n",
       "      <th>S2_Sound</th>\n",
       "      <th>S3_Sound</th>\n",
       "      <th>S4_Sound</th>\n",
       "      <th>S5_CO2</th>\n",
       "      <th>S5_CO2_Slope</th>\n",
       "      <th>S6_PIR</th>\n",
       "      <th>S7_PIR</th>\n",
       "      <th>Room_Occupancy_Count</th>\n",
       "    </tr>\n",
       "  </thead>\n",
       "  <tbody>\n",
       "    <tr>\n",
       "      <th>0</th>\n",
       "      <td>24.94</td>\n",
       "      <td>24.750000</td>\n",
       "      <td>24.56</td>\n",
       "      <td>25.380000</td>\n",
       "      <td>121</td>\n",
       "      <td>34</td>\n",
       "      <td>53</td>\n",
       "      <td>40</td>\n",
       "      <td>0.080000</td>\n",
       "      <td>0.190000</td>\n",
       "      <td>0.060000</td>\n",
       "      <td>0.060000</td>\n",
       "      <td>390</td>\n",
       "      <td>0.769231</td>\n",
       "      <td>0.0</td>\n",
       "      <td>0.0</td>\n",
       "      <td>1</td>\n",
       "    </tr>\n",
       "    <tr>\n",
       "      <th>1</th>\n",
       "      <td>24.94</td>\n",
       "      <td>24.750000</td>\n",
       "      <td>24.56</td>\n",
       "      <td>25.440000</td>\n",
       "      <td>121</td>\n",
       "      <td>33</td>\n",
       "      <td>53</td>\n",
       "      <td>40</td>\n",
       "      <td>0.930000</td>\n",
       "      <td>0.050000</td>\n",
       "      <td>0.060000</td>\n",
       "      <td>0.060000</td>\n",
       "      <td>390</td>\n",
       "      <td>0.646154</td>\n",
       "      <td>0.0</td>\n",
       "      <td>0.0</td>\n",
       "      <td>1</td>\n",
       "    </tr>\n",
       "    <tr>\n",
       "      <th>2</th>\n",
       "      <td>25.00</td>\n",
       "      <td>24.750000</td>\n",
       "      <td>24.50</td>\n",
       "      <td>25.440000</td>\n",
       "      <td>121</td>\n",
       "      <td>34</td>\n",
       "      <td>53</td>\n",
       "      <td>40</td>\n",
       "      <td>0.430000</td>\n",
       "      <td>0.110000</td>\n",
       "      <td>0.080000</td>\n",
       "      <td>0.060000</td>\n",
       "      <td>390</td>\n",
       "      <td>0.519231</td>\n",
       "      <td>0.0</td>\n",
       "      <td>0.0</td>\n",
       "      <td>1</td>\n",
       "    </tr>\n",
       "    <tr>\n",
       "      <th>3</th>\n",
       "      <td>25.00</td>\n",
       "      <td>24.750000</td>\n",
       "      <td>24.56</td>\n",
       "      <td>25.440000</td>\n",
       "      <td>121</td>\n",
       "      <td>34</td>\n",
       "      <td>53</td>\n",
       "      <td>40</td>\n",
       "      <td>0.410000</td>\n",
       "      <td>0.100000</td>\n",
       "      <td>0.100000</td>\n",
       "      <td>0.090000</td>\n",
       "      <td>390</td>\n",
       "      <td>0.388462</td>\n",
       "      <td>0.0</td>\n",
       "      <td>0.0</td>\n",
       "      <td>1</td>\n",
       "    </tr>\n",
       "    <tr>\n",
       "      <th>4</th>\n",
       "      <td>25.00</td>\n",
       "      <td>24.750000</td>\n",
       "      <td>24.56</td>\n",
       "      <td>25.440000</td>\n",
       "      <td>121</td>\n",
       "      <td>34</td>\n",
       "      <td>54</td>\n",
       "      <td>40</td>\n",
       "      <td>0.180000</td>\n",
       "      <td>0.060000</td>\n",
       "      <td>0.060000</td>\n",
       "      <td>0.060000</td>\n",
       "      <td>390</td>\n",
       "      <td>0.253846</td>\n",
       "      <td>0.0</td>\n",
       "      <td>0.0</td>\n",
       "      <td>1</td>\n",
       "    </tr>\n",
       "    <tr>\n",
       "      <th>...</th>\n",
       "      <td>...</td>\n",
       "      <td>...</td>\n",
       "      <td>...</td>\n",
       "      <td>...</td>\n",
       "      <td>...</td>\n",
       "      <td>...</td>\n",
       "      <td>...</td>\n",
       "      <td>...</td>\n",
       "      <td>...</td>\n",
       "      <td>...</td>\n",
       "      <td>...</td>\n",
       "      <td>...</td>\n",
       "      <td>...</td>\n",
       "      <td>...</td>\n",
       "      <td>...</td>\n",
       "      <td>...</td>\n",
       "      <td>...</td>\n",
       "    </tr>\n",
       "    <tr>\n",
       "      <th>32907</th>\n",
       "      <td>26.19</td>\n",
       "      <td>27.223269</td>\n",
       "      <td>26.06</td>\n",
       "      <td>26.310000</td>\n",
       "      <td>163</td>\n",
       "      <td>252</td>\n",
       "      <td>272</td>\n",
       "      <td>74</td>\n",
       "      <td>0.651163</td>\n",
       "      <td>0.271574</td>\n",
       "      <td>0.125545</td>\n",
       "      <td>0.146828</td>\n",
       "      <td>962</td>\n",
       "      <td>1.999544</td>\n",
       "      <td>0.0</td>\n",
       "      <td>0.0</td>\n",
       "      <td>3</td>\n",
       "    </tr>\n",
       "    <tr>\n",
       "      <th>32908</th>\n",
       "      <td>25.63</td>\n",
       "      <td>26.250000</td>\n",
       "      <td>25.44</td>\n",
       "      <td>25.690000</td>\n",
       "      <td>10</td>\n",
       "      <td>10</td>\n",
       "      <td>38</td>\n",
       "      <td>34</td>\n",
       "      <td>0.295677</td>\n",
       "      <td>0.333533</td>\n",
       "      <td>0.545746</td>\n",
       "      <td>0.090000</td>\n",
       "      <td>375</td>\n",
       "      <td>0.279931</td>\n",
       "      <td>0.0</td>\n",
       "      <td>0.0</td>\n",
       "      <td>3</td>\n",
       "    </tr>\n",
       "    <tr>\n",
       "      <th>32909</th>\n",
       "      <td>26.25</td>\n",
       "      <td>26.310000</td>\n",
       "      <td>25.88</td>\n",
       "      <td>26.324524</td>\n",
       "      <td>150</td>\n",
       "      <td>234</td>\n",
       "      <td>186</td>\n",
       "      <td>10</td>\n",
       "      <td>0.129798</td>\n",
       "      <td>0.158674</td>\n",
       "      <td>0.088674</td>\n",
       "      <td>0.067925</td>\n",
       "      <td>1000</td>\n",
       "      <td>2.418145</td>\n",
       "      <td>0.0</td>\n",
       "      <td>0.0</td>\n",
       "      <td>3</td>\n",
       "    </tr>\n",
       "    <tr>\n",
       "      <th>32910</th>\n",
       "      <td>25.69</td>\n",
       "      <td>26.381133</td>\n",
       "      <td>25.56</td>\n",
       "      <td>25.750000</td>\n",
       "      <td>9</td>\n",
       "      <td>8</td>\n",
       "      <td>33</td>\n",
       "      <td>29</td>\n",
       "      <td>0.106042</td>\n",
       "      <td>0.058686</td>\n",
       "      <td>0.091322</td>\n",
       "      <td>0.090566</td>\n",
       "      <td>444</td>\n",
       "      <td>2.541945</td>\n",
       "      <td>0.0</td>\n",
       "      <td>0.0</td>\n",
       "      <td>3</td>\n",
       "    </tr>\n",
       "    <tr>\n",
       "      <th>32911</th>\n",
       "      <td>26.25</td>\n",
       "      <td>26.380000</td>\n",
       "      <td>25.94</td>\n",
       "      <td>26.380000</td>\n",
       "      <td>150</td>\n",
       "      <td>235</td>\n",
       "      <td>186</td>\n",
       "      <td>10</td>\n",
       "      <td>0.368836</td>\n",
       "      <td>0.241338</td>\n",
       "      <td>0.453784</td>\n",
       "      <td>0.111261</td>\n",
       "      <td>1050</td>\n",
       "      <td>2.118895</td>\n",
       "      <td>0.0</td>\n",
       "      <td>0.0</td>\n",
       "      <td>3</td>\n",
       "    </tr>\n",
       "  </tbody>\n",
       "</table>\n",
       "<p>31611 rows × 17 columns</p>\n",
       "</div>"
      ],
      "text/plain": [
       "       S1_Temp    S2_Temp  S3_Temp    S4_Temp  S1_Light  S2_Light  S3_Light  \\\n",
       "0        24.94  24.750000    24.56  25.380000       121        34        53   \n",
       "1        24.94  24.750000    24.56  25.440000       121        33        53   \n",
       "2        25.00  24.750000    24.50  25.440000       121        34        53   \n",
       "3        25.00  24.750000    24.56  25.440000       121        34        53   \n",
       "4        25.00  24.750000    24.56  25.440000       121        34        54   \n",
       "...        ...        ...      ...        ...       ...       ...       ...   \n",
       "32907    26.19  27.223269    26.06  26.310000       163       252       272   \n",
       "32908    25.63  26.250000    25.44  25.690000        10        10        38   \n",
       "32909    26.25  26.310000    25.88  26.324524       150       234       186   \n",
       "32910    25.69  26.381133    25.56  25.750000         9         8        33   \n",
       "32911    26.25  26.380000    25.94  26.380000       150       235       186   \n",
       "\n",
       "       S4_Light  S1_Sound  S2_Sound  S3_Sound  S4_Sound  S5_CO2  S5_CO2_Slope  \\\n",
       "0            40  0.080000  0.190000  0.060000  0.060000     390      0.769231   \n",
       "1            40  0.930000  0.050000  0.060000  0.060000     390      0.646154   \n",
       "2            40  0.430000  0.110000  0.080000  0.060000     390      0.519231   \n",
       "3            40  0.410000  0.100000  0.100000  0.090000     390      0.388462   \n",
       "4            40  0.180000  0.060000  0.060000  0.060000     390      0.253846   \n",
       "...         ...       ...       ...       ...       ...     ...           ...   \n",
       "32907        74  0.651163  0.271574  0.125545  0.146828     962      1.999544   \n",
       "32908        34  0.295677  0.333533  0.545746  0.090000     375      0.279931   \n",
       "32909        10  0.129798  0.158674  0.088674  0.067925    1000      2.418145   \n",
       "32910        29  0.106042  0.058686  0.091322  0.090566     444      2.541945   \n",
       "32911        10  0.368836  0.241338  0.453784  0.111261    1050      2.118895   \n",
       "\n",
       "       S6_PIR  S7_PIR  Room_Occupancy_Count  \n",
       "0         0.0     0.0                     1  \n",
       "1         0.0     0.0                     1  \n",
       "2         0.0     0.0                     1  \n",
       "3         0.0     0.0                     1  \n",
       "4         0.0     0.0                     1  \n",
       "...       ...     ...                   ...  \n",
       "32907     0.0     0.0                     3  \n",
       "32908     0.0     0.0                     3  \n",
       "32909     0.0     0.0                     3  \n",
       "32910     0.0     0.0                     3  \n",
       "32911     0.0     0.0                     3  \n",
       "\n",
       "[31611 rows x 17 columns]"
      ]
     },
     "execution_count": 152,
     "metadata": {},
     "output_type": "execute_result"
    }
   ],
   "source": [
    "df3 = df2[numerical_features.columns]\n",
    "df3"
   ]
  },
  {
   "cell_type": "code",
   "execution_count": 154,
   "id": "9ce2c88e-306a-45b2-92e0-59b9728c4010",
   "metadata": {},
   "outputs": [],
   "source": [
    "pt = PowerTransformer(method='yeo-johnson')"
   ]
  },
  {
   "cell_type": "code",
   "execution_count": 156,
   "id": "10cc89da-259b-4b98-bbb4-0c687d9434cd",
   "metadata": {},
   "outputs": [
    {
     "data": {
      "text/plain": [
       "Index(['S1_Temp', 'S2_Temp', 'S3_Temp', 'S4_Temp', 'S1_Light', 'S2_Light',\n",
       "       'S3_Light', 'S4_Light', 'S1_Sound', 'S2_Sound', 'S3_Sound', 'S4_Sound',\n",
       "       'S5_CO2', 'S5_CO2_Slope', 'S6_PIR', 'S7_PIR', 'Room_Occupancy_Count'],\n",
       "      dtype='object')"
      ]
     },
     "execution_count": 156,
     "metadata": {},
     "output_type": "execute_result"
    }
   ],
   "source": [
    "numerical_features = df3.select_dtypes(include=['int64','float64']).columns\n",
    "numerical_features"
   ]
  },
  {
   "cell_type": "code",
   "execution_count": 158,
   "id": "883a1fa0-793f-4f92-8912-574f6b71489a",
   "metadata": {},
   "outputs": [
    {
     "data": {
      "text/html": [
       "<div>\n",
       "<style scoped>\n",
       "    .dataframe tbody tr th:only-of-type {\n",
       "        vertical-align: middle;\n",
       "    }\n",
       "\n",
       "    .dataframe tbody tr th {\n",
       "        vertical-align: top;\n",
       "    }\n",
       "\n",
       "    .dataframe thead th {\n",
       "        text-align: right;\n",
       "    }\n",
       "</style>\n",
       "<table border=\"1\" class=\"dataframe\">\n",
       "  <thead>\n",
       "    <tr style=\"text-align: right;\">\n",
       "      <th></th>\n",
       "      <th>S1_Temp</th>\n",
       "      <th>S2_Temp</th>\n",
       "      <th>S3_Temp</th>\n",
       "      <th>S4_Temp</th>\n",
       "      <th>S1_Light</th>\n",
       "      <th>S2_Light</th>\n",
       "      <th>S3_Light</th>\n",
       "      <th>S4_Light</th>\n",
       "      <th>S1_Sound</th>\n",
       "      <th>S2_Sound</th>\n",
       "      <th>S3_Sound</th>\n",
       "      <th>S4_Sound</th>\n",
       "      <th>S5_CO2</th>\n",
       "      <th>S5_CO2_Slope</th>\n",
       "      <th>S6_PIR</th>\n",
       "      <th>S7_PIR</th>\n",
       "      <th>Room_Occupancy_Count</th>\n",
       "    </tr>\n",
       "  </thead>\n",
       "  <tbody>\n",
       "    <tr>\n",
       "      <th>0</th>\n",
       "      <td>-1.832447</td>\n",
       "      <td>-3.316791e-15</td>\n",
       "      <td>-1.717583</td>\n",
       "      <td>-1.663657</td>\n",
       "      <td>0.463652</td>\n",
       "      <td>-0.033721</td>\n",
       "      <td>-0.223968</td>\n",
       "      <td>0.740134</td>\n",
       "      <td>-1.101632</td>\n",
       "      <td>0.090843</td>\n",
       "      <td>-1.040512</td>\n",
       "      <td>-1.217776</td>\n",
       "      <td>-1.002752</td>\n",
       "      <td>-0.029853</td>\n",
       "      <td>0.0</td>\n",
       "      <td>0.0</td>\n",
       "      <td>-0.462551</td>\n",
       "    </tr>\n",
       "    <tr>\n",
       "      <th>1</th>\n",
       "      <td>-1.832447</td>\n",
       "      <td>-3.316791e-15</td>\n",
       "      <td>-1.717583</td>\n",
       "      <td>-1.588151</td>\n",
       "      <td>0.463652</td>\n",
       "      <td>-0.050340</td>\n",
       "      <td>-0.223968</td>\n",
       "      <td>0.740134</td>\n",
       "      <td>1.383403</td>\n",
       "      <td>-1.080691</td>\n",
       "      <td>-1.040512</td>\n",
       "      <td>-1.217776</td>\n",
       "      <td>-1.002752</td>\n",
       "      <td>-0.121061</td>\n",
       "      <td>0.0</td>\n",
       "      <td>0.0</td>\n",
       "      <td>-0.462551</td>\n",
       "    </tr>\n",
       "    <tr>\n",
       "      <th>2</th>\n",
       "      <td>-1.752958</td>\n",
       "      <td>-3.316791e-15</td>\n",
       "      <td>-1.795796</td>\n",
       "      <td>-1.588151</td>\n",
       "      <td>0.463652</td>\n",
       "      <td>-0.033721</td>\n",
       "      <td>-0.223968</td>\n",
       "      <td>0.740134</td>\n",
       "      <td>0.466329</td>\n",
       "      <td>-0.492407</td>\n",
       "      <td>-0.807353</td>\n",
       "      <td>-1.217776</td>\n",
       "      <td>-1.002752</td>\n",
       "      <td>-0.215647</td>\n",
       "      <td>0.0</td>\n",
       "      <td>0.0</td>\n",
       "      <td>-0.462551</td>\n",
       "    </tr>\n",
       "    <tr>\n",
       "      <th>3</th>\n",
       "      <td>-1.752958</td>\n",
       "      <td>-3.316791e-15</td>\n",
       "      <td>-1.717583</td>\n",
       "      <td>-1.588151</td>\n",
       "      <td>0.463652</td>\n",
       "      <td>-0.033721</td>\n",
       "      <td>-0.223968</td>\n",
       "      <td>0.740134</td>\n",
       "      <td>0.407559</td>\n",
       "      <td>-0.580057</td>\n",
       "      <td>-0.596509</td>\n",
       "      <td>-0.411372</td>\n",
       "      <td>-1.002752</td>\n",
       "      <td>-0.313710</td>\n",
       "      <td>0.0</td>\n",
       "      <td>0.0</td>\n",
       "      <td>-0.462551</td>\n",
       "    </tr>\n",
       "    <tr>\n",
       "      <th>4</th>\n",
       "      <td>-1.752958</td>\n",
       "      <td>-3.316791e-15</td>\n",
       "      <td>-1.717583</td>\n",
       "      <td>-1.588151</td>\n",
       "      <td>0.463652</td>\n",
       "      <td>-0.033721</td>\n",
       "      <td>-0.209259</td>\n",
       "      <td>0.740134</td>\n",
       "      <td>-0.505156</td>\n",
       "      <td>-0.971481</td>\n",
       "      <td>-1.040512</td>\n",
       "      <td>-1.217776</td>\n",
       "      <td>-1.002752</td>\n",
       "      <td>-0.415371</td>\n",
       "      <td>0.0</td>\n",
       "      <td>0.0</td>\n",
       "      <td>-0.462551</td>\n",
       "    </tr>\n",
       "    <tr>\n",
       "      <th>...</th>\n",
       "      <td>...</td>\n",
       "      <td>...</td>\n",
       "      <td>...</td>\n",
       "      <td>...</td>\n",
       "      <td>...</td>\n",
       "      <td>...</td>\n",
       "      <td>...</td>\n",
       "      <td>...</td>\n",
       "      <td>...</td>\n",
       "      <td>...</td>\n",
       "      <td>...</td>\n",
       "      <td>...</td>\n",
       "      <td>...</td>\n",
       "      <td>...</td>\n",
       "      <td>...</td>\n",
       "      <td>...</td>\n",
       "      <td>...</td>\n",
       "    </tr>\n",
       "    <tr>\n",
       "      <th>32907</th>\n",
       "      <td>1.054378</td>\n",
       "      <td>2.220446e-15</td>\n",
       "      <td>1.640569</td>\n",
       "      <td>0.816363</td>\n",
       "      <td>0.957484</td>\n",
       "      <td>1.279671</td>\n",
       "      <td>1.644107</td>\n",
       "      <td>1.656387</td>\n",
       "      <td>0.977316</td>\n",
       "      <td>0.521426</td>\n",
       "      <td>-0.355754</td>\n",
       "      <td>0.567268</td>\n",
       "      <td>1.275637</td>\n",
       "      <td>0.860565</td>\n",
       "      <td>0.0</td>\n",
       "      <td>0.0</td>\n",
       "      <td>1.267917</td>\n",
       "    </tr>\n",
       "    <tr>\n",
       "      <th>32908</th>\n",
       "      <td>-0.615643</td>\n",
       "      <td>6.245005e-16</td>\n",
       "      <td>-0.139644</td>\n",
       "      <td>-1.185831</td>\n",
       "      <td>-1.327769</td>\n",
       "      <td>-0.646559</td>\n",
       "      <td>-0.466505</td>\n",
       "      <td>0.537073</td>\n",
       "      <td>0.016106</td>\n",
       "      <td>0.770690</td>\n",
       "      <td>1.341219</td>\n",
       "      <td>-0.411372</td>\n",
       "      <td>-1.125393</td>\n",
       "      <td>-0.395612</td>\n",
       "      <td>0.0</td>\n",
       "      <td>0.0</td>\n",
       "      <td>1.267917</td>\n",
       "    </tr>\n",
       "    <tr>\n",
       "      <th>32909</th>\n",
       "      <td>1.284111</td>\n",
       "      <td>7.494005e-16</td>\n",
       "      <td>1.050746</td>\n",
       "      <td>0.889464</td>\n",
       "      <td>0.809547</td>\n",
       "      <td>1.223705</td>\n",
       "      <td>1.085600</td>\n",
       "      <td>-0.592203</td>\n",
       "      <td>-0.784274</td>\n",
       "      <td>-0.114949</td>\n",
       "      <td>-0.713320</td>\n",
       "      <td>-0.978896</td>\n",
       "      <td>1.353334</td>\n",
       "      <td>1.156727</td>\n",
       "      <td>0.0</td>\n",
       "      <td>0.0</td>\n",
       "      <td>1.267917</td>\n",
       "    </tr>\n",
       "    <tr>\n",
       "      <th>32910</th>\n",
       "      <td>-0.471959</td>\n",
       "      <td>8.743006e-16</td>\n",
       "      <td>0.152982</td>\n",
       "      <td>-1.063927</td>\n",
       "      <td>-1.355110</td>\n",
       "      <td>-0.742870</td>\n",
       "      <td>-0.559049</td>\n",
       "      <td>0.352156</td>\n",
       "      <td>-0.930177</td>\n",
       "      <td>-0.985553</td>\n",
       "      <td>-0.685423</td>\n",
       "      <td>-0.398491</td>\n",
       "      <td>-0.612995</td>\n",
       "      <td>1.243791</td>\n",
       "      <td>0.0</td>\n",
       "      <td>0.0</td>\n",
       "      <td>1.267917</td>\n",
       "    </tr>\n",
       "    <tr>\n",
       "      <th>32911</th>\n",
       "      <td>1.284111</td>\n",
       "      <td>8.743006e-16</td>\n",
       "      <td>1.240054</td>\n",
       "      <td>1.183813</td>\n",
       "      <td>0.809547</td>\n",
       "      <td>1.226909</td>\n",
       "      <td>1.085600</td>\n",
       "      <td>-0.592203</td>\n",
       "      <td>0.278159</td>\n",
       "      <td>0.377358</td>\n",
       "      <td>1.169078</td>\n",
       "      <td>0.023220</td>\n",
       "      <td>1.449183</td>\n",
       "      <td>0.945299</td>\n",
       "      <td>0.0</td>\n",
       "      <td>0.0</td>\n",
       "      <td>1.267917</td>\n",
       "    </tr>\n",
       "  </tbody>\n",
       "</table>\n",
       "<p>31611 rows × 17 columns</p>\n",
       "</div>"
      ],
      "text/plain": [
       "        S1_Temp       S2_Temp   S3_Temp   S4_Temp  S1_Light  S2_Light  \\\n",
       "0     -1.832447 -3.316791e-15 -1.717583 -1.663657  0.463652 -0.033721   \n",
       "1     -1.832447 -3.316791e-15 -1.717583 -1.588151  0.463652 -0.050340   \n",
       "2     -1.752958 -3.316791e-15 -1.795796 -1.588151  0.463652 -0.033721   \n",
       "3     -1.752958 -3.316791e-15 -1.717583 -1.588151  0.463652 -0.033721   \n",
       "4     -1.752958 -3.316791e-15 -1.717583 -1.588151  0.463652 -0.033721   \n",
       "...         ...           ...       ...       ...       ...       ...   \n",
       "32907  1.054378  2.220446e-15  1.640569  0.816363  0.957484  1.279671   \n",
       "32908 -0.615643  6.245005e-16 -0.139644 -1.185831 -1.327769 -0.646559   \n",
       "32909  1.284111  7.494005e-16  1.050746  0.889464  0.809547  1.223705   \n",
       "32910 -0.471959  8.743006e-16  0.152982 -1.063927 -1.355110 -0.742870   \n",
       "32911  1.284111  8.743006e-16  1.240054  1.183813  0.809547  1.226909   \n",
       "\n",
       "       S3_Light  S4_Light  S1_Sound  S2_Sound  S3_Sound  S4_Sound    S5_CO2  \\\n",
       "0     -0.223968  0.740134 -1.101632  0.090843 -1.040512 -1.217776 -1.002752   \n",
       "1     -0.223968  0.740134  1.383403 -1.080691 -1.040512 -1.217776 -1.002752   \n",
       "2     -0.223968  0.740134  0.466329 -0.492407 -0.807353 -1.217776 -1.002752   \n",
       "3     -0.223968  0.740134  0.407559 -0.580057 -0.596509 -0.411372 -1.002752   \n",
       "4     -0.209259  0.740134 -0.505156 -0.971481 -1.040512 -1.217776 -1.002752   \n",
       "...         ...       ...       ...       ...       ...       ...       ...   \n",
       "32907  1.644107  1.656387  0.977316  0.521426 -0.355754  0.567268  1.275637   \n",
       "32908 -0.466505  0.537073  0.016106  0.770690  1.341219 -0.411372 -1.125393   \n",
       "32909  1.085600 -0.592203 -0.784274 -0.114949 -0.713320 -0.978896  1.353334   \n",
       "32910 -0.559049  0.352156 -0.930177 -0.985553 -0.685423 -0.398491 -0.612995   \n",
       "32911  1.085600 -0.592203  0.278159  0.377358  1.169078  0.023220  1.449183   \n",
       "\n",
       "       S5_CO2_Slope  S6_PIR  S7_PIR  Room_Occupancy_Count  \n",
       "0         -0.029853     0.0     0.0             -0.462551  \n",
       "1         -0.121061     0.0     0.0             -0.462551  \n",
       "2         -0.215647     0.0     0.0             -0.462551  \n",
       "3         -0.313710     0.0     0.0             -0.462551  \n",
       "4         -0.415371     0.0     0.0             -0.462551  \n",
       "...             ...     ...     ...                   ...  \n",
       "32907      0.860565     0.0     0.0              1.267917  \n",
       "32908     -0.395612     0.0     0.0              1.267917  \n",
       "32909      1.156727     0.0     0.0              1.267917  \n",
       "32910      1.243791     0.0     0.0              1.267917  \n",
       "32911      0.945299     0.0     0.0              1.267917  \n",
       "\n",
       "[31611 rows x 17 columns]"
      ]
     },
     "execution_count": 158,
     "metadata": {},
     "output_type": "execute_result"
    }
   ],
   "source": [
    "df3[numerical_features] = pt.fit_transform(df3[numerical_features])\n",
    "df3[numerical_features]"
   ]
  },
  {
   "cell_type": "code",
   "execution_count": 160,
   "id": "262999d1-7f2f-44bb-afc4-2df574ee3383",
   "metadata": {},
   "outputs": [
    {
     "data": {
      "text/plain": [
       "S1_Temp                -0.147184\n",
       "S2_Temp                 0.000000\n",
       "S3_Temp                -0.110466\n",
       "S4_Temp                -0.242976\n",
       "S1_Light               -0.848919\n",
       "S2_Light               -0.095659\n",
       "S3_Light               -0.293963\n",
       "S4_Light               -0.213881\n",
       "S1_Sound                0.243975\n",
       "S2_Sound                0.363358\n",
       "S3_Sound                0.469374\n",
       "S4_Sound                0.406314\n",
       "S5_CO2                  0.084793\n",
       "S5_CO2_Slope           -0.009470\n",
       "S6_PIR                  0.000000\n",
       "S7_PIR                  0.000000\n",
       "Room_Occupancy_Count   -0.176076\n",
       "dtype: float64"
      ]
     },
     "execution_count": 160,
     "metadata": {},
     "output_type": "execute_result"
    }
   ],
   "source": [
    "df3[numerical_features].skew()"
   ]
  },
  {
   "cell_type": "code",
   "execution_count": 162,
   "id": "a8c20c54-e35e-48a0-81ff-386b548af24b",
   "metadata": {},
   "outputs": [
    {
     "data": {
      "text/plain": [
       "Text(0.5, 1.0, 'Credit Card Usage')"
      ]
     },
     "execution_count": 162,
     "metadata": {},
     "output_type": "execute_result"
    },
    {
     "data": {
      "image/png": "[encoded data removed]",
      "text/plain": [
       "<Figure size 1000x800 with 2 Axes>"
      ]
     },
     "metadata": {},
     "output_type": "display_data"
    }
   ],
   "source": [
    "corr=df3.corr()\n",
    "plt.figure(figsize=(10,8))\n",
    "sns.heatmap(corr,annot=True,fmt='.2f',cmap='magma') \n",
    "plt.title(\"Credit Card Usage\")"
   ]
  },
  {
   "cell_type": "code",
   "execution_count": null,
   "id": "431fee54-8e49-4254-b25c-22818239238f",
   "metadata": {},
   "outputs": [],
   "source": []
  },
  {
   "cell_type": "code",
   "execution_count": 164,
   "id": "7a8e1afb-67bd-4f78-8dad-28e0f570e2a9",
   "metadata": {},
   "outputs": [],
   "source": [
    "#  Feature Selection"
   ]
  },
  {
   "cell_type": "code",
   "execution_count": 166,
   "id": "ec1fa2eb-9f6d-4c6d-8cc4-90522db7ee69",
   "metadata": {},
   "outputs": [],
   "source": [
    "x = df3.drop(columns = ['Room_Occupancy_Count'])\n",
    "y = df3['Room_Occupancy_Count']"
   ]
  },
  {
   "cell_type": "code",
   "execution_count": 168,
   "id": "8ecd35a6-d0d5-4957-abb2-667a684a8dca",
   "metadata": {},
   "outputs": [],
   "source": [
    "\n",
    "sk = SelectKBest(score_func=f_classif,k=10)"
   ]
  },
  {
   "cell_type": "code",
   "execution_count": 170,
   "id": "c40d78f6-f7e0-4681-8adc-4b78820c08d2",
   "metadata": {},
   "outputs": [],
   "source": [
    "x_new = sk.fit_transform(x,y)"
   ]
  },
  {
   "cell_type": "code",
   "execution_count": 172,
   "id": "cd01d314-0f69-45e8-89fb-5c250b2911df",
   "metadata": {},
   "outputs": [],
   "source": [
    "selected_features = x.columns[sk.get_support()]"
   ]
  },
  {
   "cell_type": "code",
   "execution_count": 174,
   "id": "442b1890-3e36-4e6f-bb6c-9c5bf52ff523",
   "metadata": {},
   "outputs": [],
   "source": [
    "feature_score = pd.DataFrame({'Feature':x.columns,'score':sk.scores_}).sort_values(by='score',ascending =False)"
   ]
  },
  {
   "cell_type": "code",
   "execution_count": 176,
   "id": "a38c0739-a6c5-4796-805d-44c13f14a3c6",
   "metadata": {},
   "outputs": [
    {
     "name": "stdout",
     "output_type": "stream",
     "text": [
      "Index(['S1_Temp', 'S2_Temp', 'S3_Temp', 'S1_Light', 'S2_Light', 'S3_Light',\n",
      "       'S2_Sound', 'S3_Sound', 'S5_CO2', 'S5_CO2_Slope'],\n",
      "      dtype='object')\n",
      "/nfeature scores:\n",
      "         Feature         score\n",
      "4       S1_Light  26495.644071\n",
      "6       S3_Light  15916.354154\n",
      "5       S2_Light  14546.699315\n",
      "9       S2_Sound  12147.578710\n",
      "12        S5_CO2  12056.520327\n",
      "2        S3_Temp  11909.620708\n",
      "10      S3_Sound  11615.343384\n",
      "0        S1_Temp   9812.110857\n",
      "13  S5_CO2_Slope   7948.071362\n",
      "1        S2_Temp   6976.279336\n",
      "8       S1_Sound   6746.927445\n",
      "11      S4_Sound   5971.824369\n",
      "7       S4_Light   5183.123695\n",
      "3        S4_Temp   5016.932062\n",
      "14        S6_PIR           NaN\n",
      "15        S7_PIR           NaN\n"
     ]
    }
   ],
   "source": [
    "print(selected_features )\n",
    "print(\"/nfeature scores:\")\n",
    "print(feature_score)"
   ]
  },
  {
   "cell_type": "code",
   "execution_count": 178,
   "id": "55399b14-0e8a-4539-a191-0dae86cd4279",
   "metadata": {},
   "outputs": [],
   "source": [
    "x_selected = x[selected_features]\n"
   ]
  },
  {
   "cell_type": "code",
   "execution_count": 180,
   "id": "6682f74f-282a-47e2-ac55-e1899b7f283f",
   "metadata": {},
   "outputs": [
    {
     "data": {
      "text/html": [
       "<div>\n",
       "<style scoped>\n",
       "    .dataframe tbody tr th:only-of-type {\n",
       "        vertical-align: middle;\n",
       "    }\n",
       "\n",
       "    .dataframe tbody tr th {\n",
       "        vertical-align: top;\n",
       "    }\n",
       "\n",
       "    .dataframe thead th {\n",
       "        text-align: right;\n",
       "    }\n",
       "</style>\n",
       "<table border=\"1\" class=\"dataframe\">\n",
       "  <thead>\n",
       "    <tr style=\"text-align: right;\">\n",
       "      <th></th>\n",
       "      <th>S1_Temp</th>\n",
       "      <th>S2_Temp</th>\n",
       "      <th>S3_Temp</th>\n",
       "      <th>S1_Light</th>\n",
       "      <th>S2_Light</th>\n",
       "      <th>S3_Light</th>\n",
       "      <th>S2_Sound</th>\n",
       "      <th>S3_Sound</th>\n",
       "      <th>S5_CO2</th>\n",
       "      <th>S5_CO2_Slope</th>\n",
       "    </tr>\n",
       "  </thead>\n",
       "  <tbody>\n",
       "    <tr>\n",
       "      <th>0</th>\n",
       "      <td>-1.832447</td>\n",
       "      <td>-3.316791e-15</td>\n",
       "      <td>-1.717583</td>\n",
       "      <td>0.463652</td>\n",
       "      <td>-0.033721</td>\n",
       "      <td>-0.223968</td>\n",
       "      <td>0.090843</td>\n",
       "      <td>-1.040512</td>\n",
       "      <td>-1.002752</td>\n",
       "      <td>-0.029853</td>\n",
       "    </tr>\n",
       "    <tr>\n",
       "      <th>1</th>\n",
       "      <td>-1.832447</td>\n",
       "      <td>-3.316791e-15</td>\n",
       "      <td>-1.717583</td>\n",
       "      <td>0.463652</td>\n",
       "      <td>-0.050340</td>\n",
       "      <td>-0.223968</td>\n",
       "      <td>-1.080691</td>\n",
       "      <td>-1.040512</td>\n",
       "      <td>-1.002752</td>\n",
       "      <td>-0.121061</td>\n",
       "    </tr>\n",
       "    <tr>\n",
       "      <th>2</th>\n",
       "      <td>-1.752958</td>\n",
       "      <td>-3.316791e-15</td>\n",
       "      <td>-1.795796</td>\n",
       "      <td>0.463652</td>\n",
       "      <td>-0.033721</td>\n",
       "      <td>-0.223968</td>\n",
       "      <td>-0.492407</td>\n",
       "      <td>-0.807353</td>\n",
       "      <td>-1.002752</td>\n",
       "      <td>-0.215647</td>\n",
       "    </tr>\n",
       "    <tr>\n",
       "      <th>3</th>\n",
       "      <td>-1.752958</td>\n",
       "      <td>-3.316791e-15</td>\n",
       "      <td>-1.717583</td>\n",
       "      <td>0.463652</td>\n",
       "      <td>-0.033721</td>\n",
       "      <td>-0.223968</td>\n",
       "      <td>-0.580057</td>\n",
       "      <td>-0.596509</td>\n",
       "      <td>-1.002752</td>\n",
       "      <td>-0.313710</td>\n",
       "    </tr>\n",
       "    <tr>\n",
       "      <th>4</th>\n",
       "      <td>-1.752958</td>\n",
       "      <td>-3.316791e-15</td>\n",
       "      <td>-1.717583</td>\n",
       "      <td>0.463652</td>\n",
       "      <td>-0.033721</td>\n",
       "      <td>-0.209259</td>\n",
       "      <td>-0.971481</td>\n",
       "      <td>-1.040512</td>\n",
       "      <td>-1.002752</td>\n",
       "      <td>-0.415371</td>\n",
       "    </tr>\n",
       "  </tbody>\n",
       "</table>\n",
       "</div>"
      ],
      "text/plain": [
       "    S1_Temp       S2_Temp   S3_Temp  S1_Light  S2_Light  S3_Light  S2_Sound  \\\n",
       "0 -1.832447 -3.316791e-15 -1.717583  0.463652 -0.033721 -0.223968  0.090843   \n",
       "1 -1.832447 -3.316791e-15 -1.717583  0.463652 -0.050340 -0.223968 -1.080691   \n",
       "2 -1.752958 -3.316791e-15 -1.795796  0.463652 -0.033721 -0.223968 -0.492407   \n",
       "3 -1.752958 -3.316791e-15 -1.717583  0.463652 -0.033721 -0.223968 -0.580057   \n",
       "4 -1.752958 -3.316791e-15 -1.717583  0.463652 -0.033721 -0.209259 -0.971481   \n",
       "\n",
       "   S3_Sound    S5_CO2  S5_CO2_Slope  \n",
       "0 -1.040512 -1.002752     -0.029853  \n",
       "1 -1.040512 -1.002752     -0.121061  \n",
       "2 -0.807353 -1.002752     -0.215647  \n",
       "3 -0.596509 -1.002752     -0.313710  \n",
       "4 -1.040512 -1.002752     -0.415371  "
      ]
     },
     "execution_count": 180,
     "metadata": {},
     "output_type": "execute_result"
    }
   ],
   "source": [
    "x_selected.head()"
   ]
  },
  {
   "cell_type": "code",
   "execution_count": null,
   "id": "3b9ce43e-86db-4fa1-82f0-fbf79a34db80",
   "metadata": {},
   "outputs": [],
   "source": []
  },
  {
   "cell_type": "code",
   "execution_count": 182,
   "id": "5f443b13-1f52-4229-bd25-c154fccddf91",
   "metadata": {},
   "outputs": [],
   "source": [
    "# Scalling"
   ]
  },
  {
   "cell_type": "code",
   "execution_count": null,
   "id": "1288c888-8a53-4c32-b3f6-492b1180cea6",
   "metadata": {},
   "outputs": [],
   "source": []
  },
  {
   "cell_type": "code",
   "execution_count": 185,
   "id": "4a33ac2a-3060-4ebf-88f6-ece9add5f89d",
   "metadata": {},
   "outputs": [],
   "source": [
    "scaler= StandardScaler()"
   ]
  },
  {
   "cell_type": "code",
   "execution_count": 189,
   "id": "473a2563-a6b1-4fc4-a40e-110fd9396157",
   "metadata": {},
   "outputs": [],
   "source": [
    "x_scaled=scaler.fit_transform(x_selected)"
   ]
  },
  {
   "cell_type": "code",
   "execution_count": 191,
   "id": "87229fd4-6650-4668-a973-a936833ce278",
   "metadata": {},
   "outputs": [
    {
     "data": {
      "text/plain": [
       "array([[-1.83244658, -2.1797485 , -1.71758322, ..., -1.04051221,\n",
       "        -1.00275192, -0.02985294],\n",
       "       [-1.83244658, -2.1797485 , -1.71758322, ..., -1.04051221,\n",
       "        -1.00275192, -0.12106107],\n",
       "       [-1.75295756, -2.1797485 , -1.7957963 , ..., -0.80735259,\n",
       "        -1.00275192, -0.21564706],\n",
       "       ...,\n",
       "       [ 1.28411082,  0.49643766,  1.05074591, ..., -0.71331956,\n",
       "         1.353334  ,  1.15672725],\n",
       "       [-0.47195932,  0.57864133,  0.15298226, ..., -0.68542286,\n",
       "        -0.61299476,  1.24379101],\n",
       "       [ 1.28411082,  0.57864133,  1.24005417, ...,  1.16907823,\n",
       "         1.4491832 ,  0.94529898]])"
      ]
     },
     "execution_count": 191,
     "metadata": {},
     "output_type": "execute_result"
    }
   ],
   "source": [
    "x_scaled"
   ]
  },
  {
   "cell_type": "code",
   "execution_count": null,
   "id": "6de0fb99-972e-4278-99a1-9cdf18ae33ba",
   "metadata": {},
   "outputs": [],
   "source": []
  },
  {
   "cell_type": "code",
   "execution_count": 193,
   "id": "8ee82fe2-6f9a-4ca5-bbed-bb3259a08f62",
   "metadata": {},
   "outputs": [],
   "source": [
    "#  Train Test Split"
   ]
  },
  {
   "cell_type": "code",
   "execution_count": 195,
   "id": "c7a23c0e-5eb4-450b-8579-a6ebc9e9c1dc",
   "metadata": {},
   "outputs": [],
   "source": [
    "x_train,x_test,y_train,y_test=train_test_split(x_scaled,y,test_size=0.2,random_state=42)"
   ]
  },
  {
   "cell_type": "code",
   "execution_count": 197,
   "id": "9167c7f6-03d9-444a-b635-bb40f1eddf49",
   "metadata": {},
   "outputs": [
    {
     "name": "stdout",
     "output_type": "stream",
     "text": [
      "x_train:(25288, 10)\n",
      "x_test:(6323, 10)\n",
      "y_train:(25288,)\n",
      "y_test:(6323,)\n",
      "\n"
     ]
    }
   ],
   "source": [
    "print(f\"x_train:{x_train.shape}\\nx_test:{x_test.shape}\\ny_train:{y_train.shape}\\ny_test:{y_test.shape}\\n\")"
   ]
  },
  {
   "cell_type": "code",
   "execution_count": null,
   "id": "4dec4e30-1810-4bc5-b9af-4a5d94c6e539",
   "metadata": {},
   "outputs": [],
   "source": []
  },
  {
   "cell_type": "code",
   "execution_count": null,
   "id": "61b78303-ba5d-43db-854d-4b650997b0b6",
   "metadata": {},
   "outputs": [],
   "source": []
  },
  {
   "cell_type": "code",
   "execution_count": null,
   "id": "c783c05f-c57d-42c8-89bf-4b1d09d1d0cf",
   "metadata": {},
   "outputs": [],
   "source": []
  },
  {
   "cell_type": "code",
   "execution_count": null,
   "id": "397c377b-bc15-459f-bd1b-dcf59ee86311",
   "metadata": {},
   "outputs": [],
   "source": []
  }
 ],
 "metadata": {
  "kernelspec": {
   "display_name": "Python 3 (ipykernel)",
   "language": "python",
   "name": "python3"
  },
  "language_info": {
   "codemirror_mode": {
    "name": "ipython",
    "version": 3
   },
   "file_extension": ".py",
   "mimetype": "text/x-python",
   "name": "python",
   "nbconvert_exporter": "python",
   "pygments_lexer": "ipython3",
   "version": "3.12.4"
  }
 },
 "nbformat": 4,
 "nbformat_minor": 5
}
